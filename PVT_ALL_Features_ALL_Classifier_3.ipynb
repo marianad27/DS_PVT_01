{
  "cells": [
    {
      "cell_type": "markdown",
      "id": "51df54a3",
      "metadata": {
        "id": "51df54a3"
      },
      "source": [
        "# Все классификационные модели. SMOTE."
      ]
    },
    {
      "cell_type": "markdown",
      "id": "47a39c74",
      "metadata": {
        "id": "47a39c74"
      },
      "source": [
        "## Загружаем необходимые библиотеки"
      ]
    },
    {
      "cell_type": "code",
      "execution_count": 62,
      "id": "498e23d0",
      "metadata": {
        "id": "498e23d0"
      },
      "outputs": [],
      "source": [
        "import pandas as pd # для загрузки данных и применения One-Hot Encoding\n",
        "import numpy as np # для расчета среднего и стандартного отклонения\n",
        "import matplotlib.pyplot as plt # для создания графиков\n",
        "import seaborn as sns # для создания статистических графиков\n",
        "from sklearn import tree\n",
        "from sklearn.tree import DecisionTreeClassifier # для построения дерева классификации\n",
        "from sklearn.tree import plot_tree # для отрисовки дерева классификации\n",
        "from sklearn.model_selection import train_test_split # для разделения данных на тренировочные и тестовые\n",
        "from sklearn.model_selection import cross_val_score # для кросс валидации\n",
        "from sklearn.metrics import confusion_matrix # для создания матрицы ошибок\n",
        "from sklearn.metrics import plot_confusion_matrix # для отрисовки матрицы ошибок\n",
        "from sklearn.metrics import classification_report # для метрик классификации"
      ]
    },
    {
      "cell_type": "code",
      "execution_count": 63,
      "id": "a34c777a",
      "metadata": {
        "colab": {
          "resources": {
            "http://localhost:8080/nbextensions/google.colab/files.js": {
              "data": "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",
              "ok": true,
              "headers": [
                [
                  "content-type",
                  "application/javascript"
                ]
              ],
              "status": 200,
              "status_text": ""
            }
          },
          "base_uri": "https://localhost:8080/",
          "height": 90
        },
        "id": "a34c777a",
        "outputId": "60033e52-1fae-427e-b34e-1ba2cc8b00d3"
      },
      "outputs": [
        {
          "output_type": "display_data",
          "data": {
            "text/plain": [
              "<IPython.core.display.HTML object>"
            ],
            "text/html": [
              "\n",
              "     <input type=\"file\" id=\"files-7a0cd895-7fce-463c-8844-6ac35da8f7ba\" name=\"files[]\" multiple disabled\n",
              "        style=\"border:none\" />\n",
              "     <output id=\"result-7a0cd895-7fce-463c-8844-6ac35da8f7ba\">\n",
              "      Upload widget is only available when the cell has been executed in the\n",
              "      current browser session. Please rerun this cell to enable.\n",
              "      </output>\n",
              "      <script src=\"/nbextensions/google.colab/files.js\"></script> "
            ]
          },
          "metadata": {}
        },
        {
          "output_type": "stream",
          "name": "stdout",
          "text": [
            "Saving DS_PVT_ID_NUMBER_BASE_01_AFTER_NORM_02.xlsx to DS_PVT_ID_NUMBER_BASE_01_AFTER_NORM_02 (2).xlsx\n"
          ]
        }
      ],
      "source": [
        "from google.colab import  files\n",
        "uploaded = files.upload()"
      ]
    },
    {
      "cell_type": "code",
      "source": [
        "df = pd.read_excel(open('DS_PVT_ID_NUMBER_BASE_01_AFTER_NORM_02.xlsx', 'rb'))"
      ],
      "metadata": {
        "id": "fODCbs6RQsSV"
      },
      "id": "fODCbs6RQsSV",
      "execution_count": 64,
      "outputs": []
    },
    {
      "cell_type": "markdown",
      "source": [
        ""
      ],
      "metadata": {
        "id": "d1cQ3g1V_Eq6"
      },
      "id": "d1cQ3g1V_Eq6"
    },
    {
      "cell_type": "code",
      "execution_count": 65,
      "id": "547a9737",
      "metadata": {
        "colab": {
          "base_uri": "https://localhost:8080/",
          "height": 270
        },
        "id": "547a9737",
        "outputId": "84075f1c-a2e1-47e3-d0c4-9e55b75fc6f9"
      },
      "outputs": [
        {
          "output_type": "execute_result",
          "data": {
            "text/plain": [
              "  ID_Number  PVT  Etiology_simple  Ascites_simple  EVL_simple  PH_dur_simple  \\\n",
              "0  Case_001    1                0               0           0              1   \n",
              "1  Case_002    1                0               1           0              0   \n",
              "2  Case_003    1                0               1           0              0   \n",
              "3  Case_004    1                0               1           0              0   \n",
              "4  Case_005    1                1               1           0              0   \n",
              "\n",
              "   Age_NORM  HB_NORM  PLT_NORM  ALB_NORM  TB_NORM  INR_NORM  Spl_lenth_NORM  \\\n",
              "0     0.567    0.570     0.394     0.250    0.185     0.431           0.497   \n",
              "1     0.582    0.599     0.503     0.433    0.407     0.775           0.355   \n",
              "2     0.806    0.427     0.110     0.500    0.160     0.814           0.781   \n",
              "3     0.657    0.690     0.342     0.500    0.790     0.686           0.516   \n",
              "4     0.552    0.683     0.155     0.555    0.136     0.588           0.445   \n",
              "\n",
              "   PV_diam_NORM  \n",
              "0         0.472  \n",
              "1         0.602  \n",
              "2         0.648  \n",
              "3         0.231  \n",
              "4         0.435  "
            ],
            "text/html": [
              "\n",
              "  <div id=\"df-b6276185-358a-441f-a02d-1c192116df5f\">\n",
              "    <div class=\"colab-df-container\">\n",
              "      <div>\n",
              "<style scoped>\n",
              "    .dataframe tbody tr th:only-of-type {\n",
              "        vertical-align: middle;\n",
              "    }\n",
              "\n",
              "    .dataframe tbody tr th {\n",
              "        vertical-align: top;\n",
              "    }\n",
              "\n",
              "    .dataframe thead th {\n",
              "        text-align: right;\n",
              "    }\n",
              "</style>\n",
              "<table border=\"1\" class=\"dataframe\">\n",
              "  <thead>\n",
              "    <tr style=\"text-align: right;\">\n",
              "      <th></th>\n",
              "      <th>ID_Number</th>\n",
              "      <th>PVT</th>\n",
              "      <th>Etiology_simple</th>\n",
              "      <th>Ascites_simple</th>\n",
              "      <th>EVL_simple</th>\n",
              "      <th>PH_dur_simple</th>\n",
              "      <th>Age_NORM</th>\n",
              "      <th>HB_NORM</th>\n",
              "      <th>PLT_NORM</th>\n",
              "      <th>ALB_NORM</th>\n",
              "      <th>TB_NORM</th>\n",
              "      <th>INR_NORM</th>\n",
              "      <th>Spl_lenth_NORM</th>\n",
              "      <th>PV_diam_NORM</th>\n",
              "    </tr>\n",
              "  </thead>\n",
              "  <tbody>\n",
              "    <tr>\n",
              "      <th>0</th>\n",
              "      <td>Case_001</td>\n",
              "      <td>1</td>\n",
              "      <td>0</td>\n",
              "      <td>0</td>\n",
              "      <td>0</td>\n",
              "      <td>1</td>\n",
              "      <td>0.567</td>\n",
              "      <td>0.570</td>\n",
              "      <td>0.394</td>\n",
              "      <td>0.250</td>\n",
              "      <td>0.185</td>\n",
              "      <td>0.431</td>\n",
              "      <td>0.497</td>\n",
              "      <td>0.472</td>\n",
              "    </tr>\n",
              "    <tr>\n",
              "      <th>1</th>\n",
              "      <td>Case_002</td>\n",
              "      <td>1</td>\n",
              "      <td>0</td>\n",
              "      <td>1</td>\n",
              "      <td>0</td>\n",
              "      <td>0</td>\n",
              "      <td>0.582</td>\n",
              "      <td>0.599</td>\n",
              "      <td>0.503</td>\n",
              "      <td>0.433</td>\n",
              "      <td>0.407</td>\n",
              "      <td>0.775</td>\n",
              "      <td>0.355</td>\n",
              "      <td>0.602</td>\n",
              "    </tr>\n",
              "    <tr>\n",
              "      <th>2</th>\n",
              "      <td>Case_003</td>\n",
              "      <td>1</td>\n",
              "      <td>0</td>\n",
              "      <td>1</td>\n",
              "      <td>0</td>\n",
              "      <td>0</td>\n",
              "      <td>0.806</td>\n",
              "      <td>0.427</td>\n",
              "      <td>0.110</td>\n",
              "      <td>0.500</td>\n",
              "      <td>0.160</td>\n",
              "      <td>0.814</td>\n",
              "      <td>0.781</td>\n",
              "      <td>0.648</td>\n",
              "    </tr>\n",
              "    <tr>\n",
              "      <th>3</th>\n",
              "      <td>Case_004</td>\n",
              "      <td>1</td>\n",
              "      <td>0</td>\n",
              "      <td>1</td>\n",
              "      <td>0</td>\n",
              "      <td>0</td>\n",
              "      <td>0.657</td>\n",
              "      <td>0.690</td>\n",
              "      <td>0.342</td>\n",
              "      <td>0.500</td>\n",
              "      <td>0.790</td>\n",
              "      <td>0.686</td>\n",
              "      <td>0.516</td>\n",
              "      <td>0.231</td>\n",
              "    </tr>\n",
              "    <tr>\n",
              "      <th>4</th>\n",
              "      <td>Case_005</td>\n",
              "      <td>1</td>\n",
              "      <td>1</td>\n",
              "      <td>1</td>\n",
              "      <td>0</td>\n",
              "      <td>0</td>\n",
              "      <td>0.552</td>\n",
              "      <td>0.683</td>\n",
              "      <td>0.155</td>\n",
              "      <td>0.555</td>\n",
              "      <td>0.136</td>\n",
              "      <td>0.588</td>\n",
              "      <td>0.445</td>\n",
              "      <td>0.435</td>\n",
              "    </tr>\n",
              "  </tbody>\n",
              "</table>\n",
              "</div>\n",
              "      <button class=\"colab-df-convert\" onclick=\"convertToInteractive('df-b6276185-358a-441f-a02d-1c192116df5f')\"\n",
              "              title=\"Convert this dataframe to an interactive table.\"\n",
              "              style=\"display:none;\">\n",
              "        \n",
              "  <svg xmlns=\"http://www.w3.org/2000/svg\" height=\"24px\"viewBox=\"0 0 24 24\"\n",
              "       width=\"24px\">\n",
              "    <path d=\"M0 0h24v24H0V0z\" fill=\"none\"/>\n",
              "    <path d=\"M18.56 5.44l.94 2.06.94-2.06 2.06-.94-2.06-.94-.94-2.06-.94 2.06-2.06.94zm-11 1L8.5 8.5l.94-2.06 2.06-.94-2.06-.94L8.5 2.5l-.94 2.06-2.06.94zm10 10l.94 2.06.94-2.06 2.06-.94-2.06-.94-.94-2.06-.94 2.06-2.06.94z\"/><path d=\"M17.41 7.96l-1.37-1.37c-.4-.4-.92-.59-1.43-.59-.52 0-1.04.2-1.43.59L10.3 9.45l-7.72 7.72c-.78.78-.78 2.05 0 2.83L4 21.41c.39.39.9.59 1.41.59.51 0 1.02-.2 1.41-.59l7.78-7.78 2.81-2.81c.8-.78.8-2.07 0-2.86zM5.41 20L4 18.59l7.72-7.72 1.47 1.35L5.41 20z\"/>\n",
              "  </svg>\n",
              "      </button>\n",
              "      \n",
              "  <style>\n",
              "    .colab-df-container {\n",
              "      display:flex;\n",
              "      flex-wrap:wrap;\n",
              "      gap: 12px;\n",
              "    }\n",
              "\n",
              "    .colab-df-convert {\n",
              "      background-color: #E8F0FE;\n",
              "      border: none;\n",
              "      border-radius: 50%;\n",
              "      cursor: pointer;\n",
              "      display: none;\n",
              "      fill: #1967D2;\n",
              "      height: 32px;\n",
              "      padding: 0 0 0 0;\n",
              "      width: 32px;\n",
              "    }\n",
              "\n",
              "    .colab-df-convert:hover {\n",
              "      background-color: #E2EBFA;\n",
              "      box-shadow: 0px 1px 2px rgba(60, 64, 67, 0.3), 0px 1px 3px 1px rgba(60, 64, 67, 0.15);\n",
              "      fill: #174EA6;\n",
              "    }\n",
              "\n",
              "    [theme=dark] .colab-df-convert {\n",
              "      background-color: #3B4455;\n",
              "      fill: #D2E3FC;\n",
              "    }\n",
              "\n",
              "    [theme=dark] .colab-df-convert:hover {\n",
              "      background-color: #434B5C;\n",
              "      box-shadow: 0px 1px 3px 1px rgba(0, 0, 0, 0.15);\n",
              "      filter: drop-shadow(0px 1px 2px rgba(0, 0, 0, 0.3));\n",
              "      fill: #FFFFFF;\n",
              "    }\n",
              "  </style>\n",
              "\n",
              "      <script>\n",
              "        const buttonEl =\n",
              "          document.querySelector('#df-b6276185-358a-441f-a02d-1c192116df5f button.colab-df-convert');\n",
              "        buttonEl.style.display =\n",
              "          google.colab.kernel.accessAllowed ? 'block' : 'none';\n",
              "\n",
              "        async function convertToInteractive(key) {\n",
              "          const element = document.querySelector('#df-b6276185-358a-441f-a02d-1c192116df5f');\n",
              "          const dataTable =\n",
              "            await google.colab.kernel.invokeFunction('convertToInteractive',\n",
              "                                                     [key], {});\n",
              "          if (!dataTable) return;\n",
              "\n",
              "          const docLinkHtml = 'Like what you see? Visit the ' +\n",
              "            '<a target=\"_blank\" href=https://colab.research.google.com/notebooks/data_table.ipynb>data table notebook</a>'\n",
              "            + ' to learn more about interactive tables.';\n",
              "          element.innerHTML = '';\n",
              "          dataTable['output_type'] = 'display_data';\n",
              "          await google.colab.output.renderOutput(dataTable, element);\n",
              "          const docLink = document.createElement('div');\n",
              "          docLink.innerHTML = docLinkHtml;\n",
              "          element.appendChild(docLink);\n",
              "        }\n",
              "      </script>\n",
              "    </div>\n",
              "  </div>\n",
              "  "
            ]
          },
          "metadata": {},
          "execution_count": 65
        }
      ],
      "source": [
        "# смотрим первые 5 строк\n",
        "df.head()"
      ]
    },
    {
      "cell_type": "code",
      "execution_count": 66,
      "id": "3563fc01",
      "metadata": {
        "colab": {
          "base_uri": "https://localhost:8080/"
        },
        "id": "3563fc01",
        "outputId": "ef039511-a3b5-4d62-9c00-4b113c8b8790"
      },
      "outputs": [
        {
          "output_type": "execute_result",
          "data": {
            "text/plain": [
              "(841, 14)"
            ]
          },
          "metadata": {},
          "execution_count": 66
        }
      ],
      "source": [
        "# описывем датафрейм (первая цифра - число строк, вторая - число столбцов)\n",
        "df.shape"
      ]
    },
    {
      "cell_type": "markdown",
      "id": "18216525",
      "metadata": {
        "id": "18216525"
      },
      "source": [
        "## Идентифицируем пропущенные значения"
      ]
    },
    {
      "cell_type": "code",
      "execution_count": 67,
      "id": "311389cd",
      "metadata": {
        "colab": {
          "base_uri": "https://localhost:8080/"
        },
        "id": "311389cd",
        "outputId": "10b7ae72-076c-4e48-f638-c793508c6f4d"
      },
      "outputs": [
        {
          "output_type": "stream",
          "name": "stdout",
          "text": [
            "<class 'pandas.core.frame.DataFrame'>\n",
            "RangeIndex: 841 entries, 0 to 840\n",
            "Data columns (total 14 columns):\n",
            " #   Column           Non-Null Count  Dtype  \n",
            "---  ------           --------------  -----  \n",
            " 0   ID_Number        841 non-null    object \n",
            " 1   PVT              841 non-null    int64  \n",
            " 2   Etiology_simple  841 non-null    int64  \n",
            " 3   Ascites_simple   841 non-null    int64  \n",
            " 4   EVL_simple       841 non-null    int64  \n",
            " 5   PH_dur_simple    841 non-null    int64  \n",
            " 6   Age_NORM         841 non-null    float64\n",
            " 7   HB_NORM          841 non-null    float64\n",
            " 8   PLT_NORM         841 non-null    float64\n",
            " 9   ALB_NORM         841 non-null    float64\n",
            " 10  TB_NORM          841 non-null    float64\n",
            " 11  INR_NORM         841 non-null    float64\n",
            " 12  Spl_lenth_NORM   841 non-null    float64\n",
            " 13  PV_diam_NORM     841 non-null    float64\n",
            "dtypes: float64(8), int64(5), object(1)\n",
            "memory usage: 92.1+ KB\n"
          ]
        }
      ],
      "source": [
        "# получаем информацию о датафрейме\n",
        "df.info()"
      ]
    },
    {
      "cell_type": "code",
      "execution_count": 68,
      "id": "f36db1b5",
      "metadata": {
        "id": "f36db1b5"
      },
      "outputs": [],
      "source": [
        "df = df.drop('ID_Number', axis = 1) # удаляем столбец с идентификационными данными"
      ]
    },
    {
      "cell_type": "code",
      "source": [
        "df.head()"
      ],
      "metadata": {
        "colab": {
          "base_uri": "https://localhost:8080/",
          "height": 270
        },
        "id": "4IO21DAc59Y0",
        "outputId": "6f833020-8f68-4a24-86ee-ac9aa502fe99"
      },
      "id": "4IO21DAc59Y0",
      "execution_count": 70,
      "outputs": [
        {
          "output_type": "execute_result",
          "data": {
            "text/plain": [
              "   PVT  Etiology_simple  Ascites_simple  EVL_simple  PH_dur_simple  Age_NORM  \\\n",
              "0    1                0               0           0              1     0.567   \n",
              "1    1                0               1           0              0     0.582   \n",
              "2    1                0               1           0              0     0.806   \n",
              "3    1                0               1           0              0     0.657   \n",
              "4    1                1               1           0              0     0.552   \n",
              "\n",
              "   HB_NORM  PLT_NORM  ALB_NORM  TB_NORM  INR_NORM  Spl_lenth_NORM  \\\n",
              "0    0.570     0.394     0.250    0.185     0.431           0.497   \n",
              "1    0.599     0.503     0.433    0.407     0.775           0.355   \n",
              "2    0.427     0.110     0.500    0.160     0.814           0.781   \n",
              "3    0.690     0.342     0.500    0.790     0.686           0.516   \n",
              "4    0.683     0.155     0.555    0.136     0.588           0.445   \n",
              "\n",
              "   PV_diam_NORM  \n",
              "0         0.472  \n",
              "1         0.602  \n",
              "2         0.648  \n",
              "3         0.231  \n",
              "4         0.435  "
            ],
            "text/html": [
              "\n",
              "  <div id=\"df-b1d727c3-0426-475a-ba66-ba671a4129df\">\n",
              "    <div class=\"colab-df-container\">\n",
              "      <div>\n",
              "<style scoped>\n",
              "    .dataframe tbody tr th:only-of-type {\n",
              "        vertical-align: middle;\n",
              "    }\n",
              "\n",
              "    .dataframe tbody tr th {\n",
              "        vertical-align: top;\n",
              "    }\n",
              "\n",
              "    .dataframe thead th {\n",
              "        text-align: right;\n",
              "    }\n",
              "</style>\n",
              "<table border=\"1\" class=\"dataframe\">\n",
              "  <thead>\n",
              "    <tr style=\"text-align: right;\">\n",
              "      <th></th>\n",
              "      <th>PVT</th>\n",
              "      <th>Etiology_simple</th>\n",
              "      <th>Ascites_simple</th>\n",
              "      <th>EVL_simple</th>\n",
              "      <th>PH_dur_simple</th>\n",
              "      <th>Age_NORM</th>\n",
              "      <th>HB_NORM</th>\n",
              "      <th>PLT_NORM</th>\n",
              "      <th>ALB_NORM</th>\n",
              "      <th>TB_NORM</th>\n",
              "      <th>INR_NORM</th>\n",
              "      <th>Spl_lenth_NORM</th>\n",
              "      <th>PV_diam_NORM</th>\n",
              "    </tr>\n",
              "  </thead>\n",
              "  <tbody>\n",
              "    <tr>\n",
              "      <th>0</th>\n",
              "      <td>1</td>\n",
              "      <td>0</td>\n",
              "      <td>0</td>\n",
              "      <td>0</td>\n",
              "      <td>1</td>\n",
              "      <td>0.567</td>\n",
              "      <td>0.570</td>\n",
              "      <td>0.394</td>\n",
              "      <td>0.250</td>\n",
              "      <td>0.185</td>\n",
              "      <td>0.431</td>\n",
              "      <td>0.497</td>\n",
              "      <td>0.472</td>\n",
              "    </tr>\n",
              "    <tr>\n",
              "      <th>1</th>\n",
              "      <td>1</td>\n",
              "      <td>0</td>\n",
              "      <td>1</td>\n",
              "      <td>0</td>\n",
              "      <td>0</td>\n",
              "      <td>0.582</td>\n",
              "      <td>0.599</td>\n",
              "      <td>0.503</td>\n",
              "      <td>0.433</td>\n",
              "      <td>0.407</td>\n",
              "      <td>0.775</td>\n",
              "      <td>0.355</td>\n",
              "      <td>0.602</td>\n",
              "    </tr>\n",
              "    <tr>\n",
              "      <th>2</th>\n",
              "      <td>1</td>\n",
              "      <td>0</td>\n",
              "      <td>1</td>\n",
              "      <td>0</td>\n",
              "      <td>0</td>\n",
              "      <td>0.806</td>\n",
              "      <td>0.427</td>\n",
              "      <td>0.110</td>\n",
              "      <td>0.500</td>\n",
              "      <td>0.160</td>\n",
              "      <td>0.814</td>\n",
              "      <td>0.781</td>\n",
              "      <td>0.648</td>\n",
              "    </tr>\n",
              "    <tr>\n",
              "      <th>3</th>\n",
              "      <td>1</td>\n",
              "      <td>0</td>\n",
              "      <td>1</td>\n",
              "      <td>0</td>\n",
              "      <td>0</td>\n",
              "      <td>0.657</td>\n",
              "      <td>0.690</td>\n",
              "      <td>0.342</td>\n",
              "      <td>0.500</td>\n",
              "      <td>0.790</td>\n",
              "      <td>0.686</td>\n",
              "      <td>0.516</td>\n",
              "      <td>0.231</td>\n",
              "    </tr>\n",
              "    <tr>\n",
              "      <th>4</th>\n",
              "      <td>1</td>\n",
              "      <td>1</td>\n",
              "      <td>1</td>\n",
              "      <td>0</td>\n",
              "      <td>0</td>\n",
              "      <td>0.552</td>\n",
              "      <td>0.683</td>\n",
              "      <td>0.155</td>\n",
              "      <td>0.555</td>\n",
              "      <td>0.136</td>\n",
              "      <td>0.588</td>\n",
              "      <td>0.445</td>\n",
              "      <td>0.435</td>\n",
              "    </tr>\n",
              "  </tbody>\n",
              "</table>\n",
              "</div>\n",
              "      <button class=\"colab-df-convert\" onclick=\"convertToInteractive('df-b1d727c3-0426-475a-ba66-ba671a4129df')\"\n",
              "              title=\"Convert this dataframe to an interactive table.\"\n",
              "              style=\"display:none;\">\n",
              "        \n",
              "  <svg xmlns=\"http://www.w3.org/2000/svg\" height=\"24px\"viewBox=\"0 0 24 24\"\n",
              "       width=\"24px\">\n",
              "    <path d=\"M0 0h24v24H0V0z\" fill=\"none\"/>\n",
              "    <path d=\"M18.56 5.44l.94 2.06.94-2.06 2.06-.94-2.06-.94-.94-2.06-.94 2.06-2.06.94zm-11 1L8.5 8.5l.94-2.06 2.06-.94-2.06-.94L8.5 2.5l-.94 2.06-2.06.94zm10 10l.94 2.06.94-2.06 2.06-.94-2.06-.94-.94-2.06-.94 2.06-2.06.94z\"/><path d=\"M17.41 7.96l-1.37-1.37c-.4-.4-.92-.59-1.43-.59-.52 0-1.04.2-1.43.59L10.3 9.45l-7.72 7.72c-.78.78-.78 2.05 0 2.83L4 21.41c.39.39.9.59 1.41.59.51 0 1.02-.2 1.41-.59l7.78-7.78 2.81-2.81c.8-.78.8-2.07 0-2.86zM5.41 20L4 18.59l7.72-7.72 1.47 1.35L5.41 20z\"/>\n",
              "  </svg>\n",
              "      </button>\n",
              "      \n",
              "  <style>\n",
              "    .colab-df-container {\n",
              "      display:flex;\n",
              "      flex-wrap:wrap;\n",
              "      gap: 12px;\n",
              "    }\n",
              "\n",
              "    .colab-df-convert {\n",
              "      background-color: #E8F0FE;\n",
              "      border: none;\n",
              "      border-radius: 50%;\n",
              "      cursor: pointer;\n",
              "      display: none;\n",
              "      fill: #1967D2;\n",
              "      height: 32px;\n",
              "      padding: 0 0 0 0;\n",
              "      width: 32px;\n",
              "    }\n",
              "\n",
              "    .colab-df-convert:hover {\n",
              "      background-color: #E2EBFA;\n",
              "      box-shadow: 0px 1px 2px rgba(60, 64, 67, 0.3), 0px 1px 3px 1px rgba(60, 64, 67, 0.15);\n",
              "      fill: #174EA6;\n",
              "    }\n",
              "\n",
              "    [theme=dark] .colab-df-convert {\n",
              "      background-color: #3B4455;\n",
              "      fill: #D2E3FC;\n",
              "    }\n",
              "\n",
              "    [theme=dark] .colab-df-convert:hover {\n",
              "      background-color: #434B5C;\n",
              "      box-shadow: 0px 1px 3px 1px rgba(0, 0, 0, 0.15);\n",
              "      filter: drop-shadow(0px 1px 2px rgba(0, 0, 0, 0.3));\n",
              "      fill: #FFFFFF;\n",
              "    }\n",
              "  </style>\n",
              "\n",
              "      <script>\n",
              "        const buttonEl =\n",
              "          document.querySelector('#df-b1d727c3-0426-475a-ba66-ba671a4129df button.colab-df-convert');\n",
              "        buttonEl.style.display =\n",
              "          google.colab.kernel.accessAllowed ? 'block' : 'none';\n",
              "\n",
              "        async function convertToInteractive(key) {\n",
              "          const element = document.querySelector('#df-b1d727c3-0426-475a-ba66-ba671a4129df');\n",
              "          const dataTable =\n",
              "            await google.colab.kernel.invokeFunction('convertToInteractive',\n",
              "                                                     [key], {});\n",
              "          if (!dataTable) return;\n",
              "\n",
              "          const docLinkHtml = 'Like what you see? Visit the ' +\n",
              "            '<a target=\"_blank\" href=https://colab.research.google.com/notebooks/data_table.ipynb>data table notebook</a>'\n",
              "            + ' to learn more about interactive tables.';\n",
              "          element.innerHTML = '';\n",
              "          dataTable['output_type'] = 'display_data';\n",
              "          await google.colab.output.renderOutput(dataTable, element);\n",
              "          const docLink = document.createElement('div');\n",
              "          docLink.innerHTML = docLinkHtml;\n",
              "          element.appendChild(docLink);\n",
              "        }\n",
              "      </script>\n",
              "    </div>\n",
              "  </div>\n",
              "  "
            ]
          },
          "metadata": {},
          "execution_count": 70
        }
      ]
    },
    {
      "cell_type": "code",
      "source": [
        "plt.figure(figsize=(20, 10)) \n",
        "mask = np.triu(np.ones_like(df.corr(), dtype=np.bool_)) \n",
        "heatmap = sns.heatmap(df.corr(), mask=mask, vmin=-1, vmax=1, annot=True, cmap='BrBG') \n",
        "heatmap.set_title('Треугольная тепловая карта корреляции', fontdict={'fontsize':26}, pad=16);"
      ],
      "metadata": {
        "colab": {
          "base_uri": "https://localhost:8080/",
          "height": 694
        },
        "id": "wNWBCCn_klsS",
        "outputId": "69dd864f-cf63-4f88-b282-f37afd53dcbb"
      },
      "id": "wNWBCCn_klsS",
      "execution_count": 71,
      "outputs": [
        {
          "output_type": "display_data",
          "data": {
            "text/plain": [
              "<Figure size 1440x720 with 2 Axes>"
            ],
            "image/png": "[encoded data removed]"
          },
          "metadata": {
            "needs_background": "light"
          }
        }
      ]
    },
    {
      "cell_type": "markdown",
      "id": "2fd58b12",
      "metadata": {
        "id": "2fd58b12"
      },
      "source": [
        "## Разделяем данные на зависимую переменную y и предикторы X"
      ]
    },
    {
      "cell_type": "code",
      "execution_count": 72,
      "id": "846b7134",
      "metadata": {
        "colab": {
          "base_uri": "https://localhost:8080/",
          "height": 270
        },
        "id": "846b7134",
        "outputId": "6313773d-174d-47ab-8d73-b4dfdcf51862"
      },
      "outputs": [
        {
          "output_type": "execute_result",
          "data": {
            "text/plain": [
              "   Etiology_simple  Ascites_simple  EVL_simple  PH_dur_simple  Age_NORM  \\\n",
              "0                0               0           0              1     0.567   \n",
              "1                0               1           0              0     0.582   \n",
              "2                0               1           0              0     0.806   \n",
              "3                0               1           0              0     0.657   \n",
              "4                1               1           0              0     0.552   \n",
              "\n",
              "   HB_NORM  PLT_NORM  ALB_NORM  TB_NORM  INR_NORM  Spl_lenth_NORM  \\\n",
              "0    0.570     0.394     0.250    0.185     0.431           0.497   \n",
              "1    0.599     0.503     0.433    0.407     0.775           0.355   \n",
              "2    0.427     0.110     0.500    0.160     0.814           0.781   \n",
              "3    0.690     0.342     0.500    0.790     0.686           0.516   \n",
              "4    0.683     0.155     0.555    0.136     0.588           0.445   \n",
              "\n",
              "   PV_diam_NORM  \n",
              "0         0.472  \n",
              "1         0.602  \n",
              "2         0.648  \n",
              "3         0.231  \n",
              "4         0.435  "
            ],
            "text/html": [
              "\n",
              "  <div id=\"df-dd2e5ea3-39bf-4d9b-a1ae-eb6a8a39a060\">\n",
              "    <div class=\"colab-df-container\">\n",
              "      <div>\n",
              "<style scoped>\n",
              "    .dataframe tbody tr th:only-of-type {\n",
              "        vertical-align: middle;\n",
              "    }\n",
              "\n",
              "    .dataframe tbody tr th {\n",
              "        vertical-align: top;\n",
              "    }\n",
              "\n",
              "    .dataframe thead th {\n",
              "        text-align: right;\n",
              "    }\n",
              "</style>\n",
              "<table border=\"1\" class=\"dataframe\">\n",
              "  <thead>\n",
              "    <tr style=\"text-align: right;\">\n",
              "      <th></th>\n",
              "      <th>Etiology_simple</th>\n",
              "      <th>Ascites_simple</th>\n",
              "      <th>EVL_simple</th>\n",
              "      <th>PH_dur_simple</th>\n",
              "      <th>Age_NORM</th>\n",
              "      <th>HB_NORM</th>\n",
              "      <th>PLT_NORM</th>\n",
              "      <th>ALB_NORM</th>\n",
              "      <th>TB_NORM</th>\n",
              "      <th>INR_NORM</th>\n",
              "      <th>Spl_lenth_NORM</th>\n",
              "      <th>PV_diam_NORM</th>\n",
              "    </tr>\n",
              "  </thead>\n",
              "  <tbody>\n",
              "    <tr>\n",
              "      <th>0</th>\n",
              "      <td>0</td>\n",
              "      <td>0</td>\n",
              "      <td>0</td>\n",
              "      <td>1</td>\n",
              "      <td>0.567</td>\n",
              "      <td>0.570</td>\n",
              "      <td>0.394</td>\n",
              "      <td>0.250</td>\n",
              "      <td>0.185</td>\n",
              "      <td>0.431</td>\n",
              "      <td>0.497</td>\n",
              "      <td>0.472</td>\n",
              "    </tr>\n",
              "    <tr>\n",
              "      <th>1</th>\n",
              "      <td>0</td>\n",
              "      <td>1</td>\n",
              "      <td>0</td>\n",
              "      <td>0</td>\n",
              "      <td>0.582</td>\n",
              "      <td>0.599</td>\n",
              "      <td>0.503</td>\n",
              "      <td>0.433</td>\n",
              "      <td>0.407</td>\n",
              "      <td>0.775</td>\n",
              "      <td>0.355</td>\n",
              "      <td>0.602</td>\n",
              "    </tr>\n",
              "    <tr>\n",
              "      <th>2</th>\n",
              "      <td>0</td>\n",
              "      <td>1</td>\n",
              "      <td>0</td>\n",
              "      <td>0</td>\n",
              "      <td>0.806</td>\n",
              "      <td>0.427</td>\n",
              "      <td>0.110</td>\n",
              "      <td>0.500</td>\n",
              "      <td>0.160</td>\n",
              "      <td>0.814</td>\n",
              "      <td>0.781</td>\n",
              "      <td>0.648</td>\n",
              "    </tr>\n",
              "    <tr>\n",
              "      <th>3</th>\n",
              "      <td>0</td>\n",
              "      <td>1</td>\n",
              "      <td>0</td>\n",
              "      <td>0</td>\n",
              "      <td>0.657</td>\n",
              "      <td>0.690</td>\n",
              "      <td>0.342</td>\n",
              "      <td>0.500</td>\n",
              "      <td>0.790</td>\n",
              "      <td>0.686</td>\n",
              "      <td>0.516</td>\n",
              "      <td>0.231</td>\n",
              "    </tr>\n",
              "    <tr>\n",
              "      <th>4</th>\n",
              "      <td>1</td>\n",
              "      <td>1</td>\n",
              "      <td>0</td>\n",
              "      <td>0</td>\n",
              "      <td>0.552</td>\n",
              "      <td>0.683</td>\n",
              "      <td>0.155</td>\n",
              "      <td>0.555</td>\n",
              "      <td>0.136</td>\n",
              "      <td>0.588</td>\n",
              "      <td>0.445</td>\n",
              "      <td>0.435</td>\n",
              "    </tr>\n",
              "  </tbody>\n",
              "</table>\n",
              "</div>\n",
              "      <button class=\"colab-df-convert\" onclick=\"convertToInteractive('df-dd2e5ea3-39bf-4d9b-a1ae-eb6a8a39a060')\"\n",
              "              title=\"Convert this dataframe to an interactive table.\"\n",
              "              style=\"display:none;\">\n",
              "        \n",
              "  <svg xmlns=\"http://www.w3.org/2000/svg\" height=\"24px\"viewBox=\"0 0 24 24\"\n",
              "       width=\"24px\">\n",
              "    <path d=\"M0 0h24v24H0V0z\" fill=\"none\"/>\n",
              "    <path d=\"M18.56 5.44l.94 2.06.94-2.06 2.06-.94-2.06-.94-.94-2.06-.94 2.06-2.06.94zm-11 1L8.5 8.5l.94-2.06 2.06-.94-2.06-.94L8.5 2.5l-.94 2.06-2.06.94zm10 10l.94 2.06.94-2.06 2.06-.94-2.06-.94-.94-2.06-.94 2.06-2.06.94z\"/><path d=\"M17.41 7.96l-1.37-1.37c-.4-.4-.92-.59-1.43-.59-.52 0-1.04.2-1.43.59L10.3 9.45l-7.72 7.72c-.78.78-.78 2.05 0 2.83L4 21.41c.39.39.9.59 1.41.59.51 0 1.02-.2 1.41-.59l7.78-7.78 2.81-2.81c.8-.78.8-2.07 0-2.86zM5.41 20L4 18.59l7.72-7.72 1.47 1.35L5.41 20z\"/>\n",
              "  </svg>\n",
              "      </button>\n",
              "      \n",
              "  <style>\n",
              "    .colab-df-container {\n",
              "      display:flex;\n",
              "      flex-wrap:wrap;\n",
              "      gap: 12px;\n",
              "    }\n",
              "\n",
              "    .colab-df-convert {\n",
              "      background-color: #E8F0FE;\n",
              "      border: none;\n",
              "      border-radius: 50%;\n",
              "      cursor: pointer;\n",
              "      display: none;\n",
              "      fill: #1967D2;\n",
              "      height: 32px;\n",
              "      padding: 0 0 0 0;\n",
              "      width: 32px;\n",
              "    }\n",
              "\n",
              "    .colab-df-convert:hover {\n",
              "      background-color: #E2EBFA;\n",
              "      box-shadow: 0px 1px 2px rgba(60, 64, 67, 0.3), 0px 1px 3px 1px rgba(60, 64, 67, 0.15);\n",
              "      fill: #174EA6;\n",
              "    }\n",
              "\n",
              "    [theme=dark] .colab-df-convert {\n",
              "      background-color: #3B4455;\n",
              "      fill: #D2E3FC;\n",
              "    }\n",
              "\n",
              "    [theme=dark] .colab-df-convert:hover {\n",
              "      background-color: #434B5C;\n",
              "      box-shadow: 0px 1px 3px 1px rgba(0, 0, 0, 0.15);\n",
              "      filter: drop-shadow(0px 1px 2px rgba(0, 0, 0, 0.3));\n",
              "      fill: #FFFFFF;\n",
              "    }\n",
              "  </style>\n",
              "\n",
              "      <script>\n",
              "        const buttonEl =\n",
              "          document.querySelector('#df-dd2e5ea3-39bf-4d9b-a1ae-eb6a8a39a060 button.colab-df-convert');\n",
              "        buttonEl.style.display =\n",
              "          google.colab.kernel.accessAllowed ? 'block' : 'none';\n",
              "\n",
              "        async function convertToInteractive(key) {\n",
              "          const element = document.querySelector('#df-dd2e5ea3-39bf-4d9b-a1ae-eb6a8a39a060');\n",
              "          const dataTable =\n",
              "            await google.colab.kernel.invokeFunction('convertToInteractive',\n",
              "                                                     [key], {});\n",
              "          if (!dataTable) return;\n",
              "\n",
              "          const docLinkHtml = 'Like what you see? Visit the ' +\n",
              "            '<a target=\"_blank\" href=https://colab.research.google.com/notebooks/data_table.ipynb>data table notebook</a>'\n",
              "            + ' to learn more about interactive tables.';\n",
              "          element.innerHTML = '';\n",
              "          dataTable['output_type'] = 'display_data';\n",
              "          await google.colab.output.renderOutput(dataTable, element);\n",
              "          const docLink = document.createElement('div');\n",
              "          docLink.innerHTML = docLinkHtml;\n",
              "          element.appendChild(docLink);\n",
              "        }\n",
              "      </script>\n",
              "    </div>\n",
              "  </div>\n",
              "  "
            ]
          },
          "metadata": {},
          "execution_count": 72
        }
      ],
      "source": [
        "# X (всегда заглавная буква) - предикторы\n",
        "X = df.drop('PVT', axis=1).copy()\n",
        "X.head() # смотрим первые 5 строк: целевая переменная PVT отсутствует"
      ]
    },
    {
      "cell_type": "code",
      "execution_count": 73,
      "id": "30491693",
      "metadata": {
        "colab": {
          "base_uri": "https://localhost:8080/"
        },
        "id": "30491693",
        "outputId": "03607903-db6a-41a1-de00-7a494c653e93"
      },
      "outputs": [
        {
          "output_type": "execute_result",
          "data": {
            "text/plain": [
              "0    1\n",
              "1    1\n",
              "2    1\n",
              "3    1\n",
              "4    1\n",
              "Name: PVT, dtype: int64"
            ]
          },
          "metadata": {},
          "execution_count": 73
        }
      ],
      "source": [
        "# y (строчная букава) - целевая переменная (классификационная)\n",
        "# создаем копию столбца, в котором содержится целевая переменная\n",
        "y = df['PVT'].copy()\n",
        "y.head()"
      ]
    },
    {
      "cell_type": "code",
      "execution_count": 74,
      "id": "930ff84b",
      "metadata": {
        "id": "930ff84b"
      },
      "outputs": [],
      "source": [
        "# разделяем данные на обучающую и тестовую выборки\n",
        "X_train, X_test, y_train, y_test = train_test_split(X, y, random_state=42)\n"
      ]
    },
    {
      "cell_type": "code",
      "source": [
        "# балансируем обучающую выборку"
      ],
      "metadata": {
        "id": "lW_OA43opH_3"
      },
      "id": "lW_OA43opH_3",
      "execution_count": null,
      "outputs": []
    },
    {
      "cell_type": "code",
      "source": [
        "pip install imblearn"
      ],
      "metadata": {
        "id": "Nz9mpVvkUtLH",
        "colab": {
          "base_uri": "https://localhost:8080/"
        },
        "outputId": "71217871-9f6c-4177-9500-ae20772b9e8b"
      },
      "id": "Nz9mpVvkUtLH",
      "execution_count": null,
      "outputs": [
        {
          "output_type": "stream",
          "name": "stdout",
          "text": [
            "Looking in indexes: https://pypi.org/simple, https://us-python.pkg.dev/colab-wheels/public/simple/\n",
            "Requirement already satisfied: imblearn in /usr/local/lib/python3.7/dist-packages (0.0)\n",
            "Requirement already satisfied: imbalanced-learn in /usr/local/lib/python3.7/dist-packages (from imblearn) (0.8.1)\n",
            "Requirement already satisfied: scikit-learn>=0.24 in /usr/local/lib/python3.7/dist-packages (from imbalanced-learn->imblearn) (1.0.2)\n",
            "Requirement already satisfied: scipy>=0.19.1 in /usr/local/lib/python3.7/dist-packages (from imbalanced-learn->imblearn) (1.4.1)\n",
            "Requirement already satisfied: numpy>=1.13.3 in /usr/local/lib/python3.7/dist-packages (from imbalanced-learn->imblearn) (1.21.6)\n",
            "Requirement already satisfied: joblib>=0.11 in /usr/local/lib/python3.7/dist-packages (from imbalanced-learn->imblearn) (1.1.0)\n",
            "Requirement already satisfied: threadpoolctl>=2.0.0 in /usr/local/lib/python3.7/dist-packages (from scikit-learn>=0.24->imbalanced-learn->imblearn) (3.1.0)\n"
          ]
        }
      ]
    },
    {
      "cell_type": "code",
      "source": [
        "from imblearn.over_sampling import SMOTE\n",
        "smote = SMOTE()"
      ],
      "metadata": {
        "id": "yD_nx8LVUzGR"
      },
      "id": "yD_nx8LVUzGR",
      "execution_count": null,
      "outputs": []
    },
    {
      "cell_type": "code",
      "source": [
        "X_train_smote, y_train_smote = smote.fit_resample(X_train.astype('float'),y_train)"
      ],
      "metadata": {
        "id": "pioZF_0DTmA0"
      },
      "id": "pioZF_0DTmA0",
      "execution_count": null,
      "outputs": []
    },
    {
      "cell_type": "code",
      "source": [
        "from collections import Counter\n",
        "print(\"Число объектов в обучающей выборке по исходу PVT до применения SMOTE :\" , Counter(y_train))\n",
        "print(\"Число объектов в обучающей выборке по исходу PVT до применения SMOTE :\" , Counter(y_train_smote))"
      ],
      "metadata": {
        "colab": {
          "base_uri": "https://localhost:8080/"
        },
        "id": "YH5ljpgDsF-k",
        "outputId": "7648de45-75ab-4ce3-ecda-db6775c3051b"
      },
      "id": "YH5ljpgDsF-k",
      "execution_count": null,
      "outputs": [
        {
          "output_type": "stream",
          "name": "stdout",
          "text": [
            "Число объектов в обучающей выборке по исходу PVT до применения SMOTE : Counter({0: 530, 1: 100})\n",
            "Число объектов в обучающей выборке по исходу PVT до применения SMOTE : Counter({0: 530, 1: 530})\n"
          ]
        }
      ]
    },
    {
      "cell_type": "markdown",
      "source": [
        "# Строим классификаторы, основанные на нелинейных моделях"
      ],
      "metadata": {
        "id": "aTQTDKLs6gOY"
      },
      "id": "aTQTDKLs6gOY"
    },
    {
      "cell_type": "markdown",
      "source": [
        "## Random Forest Classifier"
      ],
      "metadata": {
        "id": "HWovhCH1GBJ6"
      },
      "id": "HWovhCH1GBJ6"
    },
    {
      "cell_type": "code",
      "source": [
        "from sklearn import ensemble\n",
        "rf_clf = ensemble.RandomForestClassifier(n_estimators=100)\n",
        "rf_clf.fit(X_train_smote,y_train_smote)\n",
        "rf_clf.score(X_test,y_test)"
      ],
      "metadata": {
        "colab": {
          "base_uri": "https://localhost:8080/"
        },
        "id": "-A7btRKkF3i1",
        "outputId": "172d5c95-2e16-4c1b-91c7-39a273df8036"
      },
      "id": "-A7btRKkF3i1",
      "execution_count": 78,
      "outputs": [
        {
          "output_type": "execute_result",
          "data": {
            "text/plain": [
              "0.8341232227488151"
            ]
          },
          "metadata": {},
          "execution_count": 78
        }
      ]
    },
    {
      "cell_type": "code",
      "source": [
        "# Проверяем как этот классификатор работает на тестовых данных и строим матрицу ошибок\n",
        "plot_confusion_matrix(rf_clf, X_test, y_test, display_labels=[\"Нет PVT\", \"Есть PVT\"])"
      ],
      "metadata": {
        "colab": {
          "base_uri": "https://localhost:8080/",
          "height": 352
        },
        "id": "GGu4qNB7G4Ht",
        "outputId": "e69c4167-ee59-4b26-a7c2-bb5b4de8cb50"
      },
      "id": "GGu4qNB7G4Ht",
      "execution_count": 79,
      "outputs": [
        {
          "output_type": "stream",
          "name": "stderr",
          "text": [
            "/usr/local/lib/python3.7/dist-packages/sklearn/utils/deprecation.py:87: FutureWarning: Function plot_confusion_matrix is deprecated; Function `plot_confusion_matrix` is deprecated in 1.0 and will be removed in 1.2. Use one of the class methods: ConfusionMatrixDisplay.from_predictions or ConfusionMatrixDisplay.from_estimator.\n",
            "  warnings.warn(msg, category=FutureWarning)\n"
          ]
        },
        {
          "output_type": "execute_result",
          "data": {
            "text/plain": [
              "<sklearn.metrics._plot.confusion_matrix.ConfusionMatrixDisplay at 0x7fb749ec1910>"
            ]
          },
          "metadata": {},
          "execution_count": 79
        },
        {
          "output_type": "display_data",
          "data": {
            "text/plain": [
              "<Figure size 432x288 with 2 Axes>"
            ],
            "image/png": "[encoded data removed]"
          },
          "metadata": {
            "needs_background": "light"
          }
        }
      ]
    },
    {
      "cell_type": "code",
      "source": [
        "# получаем метрики классификации\n",
        "report = classification_report(y_test, rf_clf.predict(X_test), target_names=['Нет PVT', 'Есть PVT'])\n",
        "print(report)"
      ],
      "metadata": {
        "colab": {
          "base_uri": "https://localhost:8080/"
        },
        "id": "QSizgwxdgNoz",
        "outputId": "61392bcb-509e-462a-ddd8-e7d391e57624"
      },
      "id": "QSizgwxdgNoz",
      "execution_count": 81,
      "outputs": [
        {
          "output_type": "stream",
          "name": "stdout",
          "text": [
            "              precision    recall  f1-score   support\n",
            "\n",
            "     Нет PVT       0.90      0.91      0.90       178\n",
            "    Есть PVT       0.47      0.42      0.44        33\n",
            "\n",
            "    accuracy                           0.83       211\n",
            "   macro avg       0.68      0.67      0.67       211\n",
            "weighted avg       0.83      0.83      0.83       211\n",
            "\n"
          ]
        }
      ]
    },
    {
      "cell_type": "markdown",
      "source": [
        "## Decision Forest Classifier"
      ],
      "metadata": {
        "id": "BnLLYZh7IED3"
      },
      "id": "BnLLYZh7IED3"
    },
    {
      "cell_type": "code",
      "source": [
        "from sklearn import tree\n",
        "dt_clf = DecisionTreeClassifier(max_depth=5)\n",
        "dt_clf.fit(X_train_smote,y_train_smote)\n",
        "dt_clf.score(X_test,y_test)"
      ],
      "metadata": {
        "colab": {
          "base_uri": "https://localhost:8080/"
        },
        "id": "dKXp_yuQHDEf",
        "outputId": "07334955-6e42-449e-a5d7-9c161bc91381"
      },
      "id": "dKXp_yuQHDEf",
      "execution_count": 82,
      "outputs": [
        {
          "output_type": "execute_result",
          "data": {
            "text/plain": [
              "0.7156398104265402"
            ]
          },
          "metadata": {},
          "execution_count": 82
        }
      ]
    },
    {
      "cell_type": "code",
      "source": [
        "# Проверяем этот классификатор работает на тестовых данных и строим матрицу ошибок\n",
        "plot_confusion_matrix(dt_clf, X_test, y_test, display_labels=[\"Нет PVT\", \"Есть PVT\"])"
      ],
      "metadata": {
        "colab": {
          "base_uri": "https://localhost:8080/",
          "height": 351
        },
        "id": "qgv9wiTOISq3",
        "outputId": "bc21dffb-c785-4ee0-f91a-ce17e6f1f5a8"
      },
      "id": "qgv9wiTOISq3",
      "execution_count": 83,
      "outputs": [
        {
          "output_type": "stream",
          "name": "stderr",
          "text": [
            "/usr/local/lib/python3.7/dist-packages/sklearn/utils/deprecation.py:87: FutureWarning: Function plot_confusion_matrix is deprecated; Function `plot_confusion_matrix` is deprecated in 1.0 and will be removed in 1.2. Use one of the class methods: ConfusionMatrixDisplay.from_predictions or ConfusionMatrixDisplay.from_estimator.\n",
            "  warnings.warn(msg, category=FutureWarning)\n"
          ]
        },
        {
          "output_type": "execute_result",
          "data": {
            "text/plain": [
              "<sklearn.metrics._plot.confusion_matrix.ConfusionMatrixDisplay at 0x7fb74a1658d0>"
            ]
          },
          "metadata": {},
          "execution_count": 83
        },
        {
          "output_type": "display_data",
          "data": {
            "text/plain": [
              "<Figure size 432x288 with 2 Axes>"
            ],
            "image/png": "[encoded data removed]"
          },
          "metadata": {
            "needs_background": "light"
          }
        }
      ]
    },
    {
      "cell_type": "code",
      "source": [
        "report = classification_report(y_test, dt_clf.predict(X_test), target_names=['Нет PVT', 'Есть PVT'])\n",
        "print(report)"
      ],
      "metadata": {
        "colab": {
          "base_uri": "https://localhost:8080/"
        },
        "id": "l-SSjuh1i1zp",
        "outputId": "2a7d611f-dd9e-451f-c74a-3ed21693e8d4"
      },
      "id": "l-SSjuh1i1zp",
      "execution_count": null,
      "outputs": [
        {
          "output_type": "stream",
          "name": "stdout",
          "text": [
            "              precision    recall  f1-score   support\n",
            "\n",
            "     Нет PVT       0.91      0.75      0.82       178\n",
            "    Есть PVT       0.31      0.61      0.41        33\n",
            "\n",
            "    accuracy                           0.73       211\n",
            "   macro avg       0.61      0.68      0.62       211\n",
            "weighted avg       0.82      0.73      0.76       211\n",
            "\n"
          ]
        }
      ]
    },
    {
      "cell_type": "markdown",
      "source": [
        "## Naive Bayes Classifier"
      ],
      "metadata": {
        "id": "wZKVJbFcJtEA"
      },
      "id": "wZKVJbFcJtEA"
    },
    {
      "cell_type": "code",
      "source": [
        "from sklearn.naive_bayes import GaussianNB\n",
        "nb_clf = GaussianNB()\n",
        "nb_clf.fit(X_train_smote,y_train_smote)\n",
        "nb_clf.score(X_test,y_test)"
      ],
      "metadata": {
        "colab": {
          "base_uri": "https://localhost:8080/"
        },
        "id": "d0Tik2atJk1h",
        "outputId": "3710d910-d841-4fc6-d138-88845226ffe1"
      },
      "id": "d0Tik2atJk1h",
      "execution_count": 84,
      "outputs": [
        {
          "output_type": "execute_result",
          "data": {
            "text/plain": [
              "0.7725118483412322"
            ]
          },
          "metadata": {},
          "execution_count": 84
        }
      ]
    },
    {
      "cell_type": "code",
      "source": [
        "# Проверяем этот классификатор работает на тестовых данных и строим матрицу ошибок\n",
        "plot_confusion_matrix(nb_clf, X_test, y_test, display_labels=[\"Нет PVT\", \"Есть PVT\"])"
      ],
      "metadata": {
        "colab": {
          "base_uri": "https://localhost:8080/",
          "height": 352
        },
        "id": "mqf3BxhMQ1_Q",
        "outputId": "5ac9c347-35c4-48d1-fb98-a9dda7c0e8eb"
      },
      "id": "mqf3BxhMQ1_Q",
      "execution_count": 85,
      "outputs": [
        {
          "output_type": "stream",
          "name": "stderr",
          "text": [
            "/usr/local/lib/python3.7/dist-packages/sklearn/utils/deprecation.py:87: FutureWarning: Function plot_confusion_matrix is deprecated; Function `plot_confusion_matrix` is deprecated in 1.0 and will be removed in 1.2. Use one of the class methods: ConfusionMatrixDisplay.from_predictions or ConfusionMatrixDisplay.from_estimator.\n",
            "  warnings.warn(msg, category=FutureWarning)\n"
          ]
        },
        {
          "output_type": "execute_result",
          "data": {
            "text/plain": [
              "<sklearn.metrics._plot.confusion_matrix.ConfusionMatrixDisplay at 0x7fb74a010290>"
            ]
          },
          "metadata": {},
          "execution_count": 85
        },
        {
          "output_type": "display_data",
          "data": {
            "text/plain": [
              "<Figure size 432x288 with 2 Axes>"
            ],
            "image/png": "[encoded data removed]"
          },
          "metadata": {
            "needs_background": "light"
          }
        }
      ]
    },
    {
      "cell_type": "code",
      "source": [
        "report = classification_report(y_test, nb_clf.predict(X_test), target_names=['Нет PVT', 'Есть PVT'])\n",
        "print(report)"
      ],
      "metadata": {
        "colab": {
          "base_uri": "https://localhost:8080/"
        },
        "id": "TpVg8U8jkK0Y",
        "outputId": "cde653db-8aee-49ba-87d1-9c42bfcfbdc9"
      },
      "id": "TpVg8U8jkK0Y",
      "execution_count": 86,
      "outputs": [
        {
          "output_type": "stream",
          "name": "stdout",
          "text": [
            "              precision    recall  f1-score   support\n",
            "\n",
            "     Нет PVT       0.92      0.80      0.86       178\n",
            "    Есть PVT       0.37      0.64      0.47        33\n",
            "\n",
            "    accuracy                           0.77       211\n",
            "   macro avg       0.65      0.72      0.66       211\n",
            "weighted avg       0.84      0.77      0.79       211\n",
            "\n"
          ]
        }
      ]
    },
    {
      "cell_type": "markdown",
      "source": [
        "## K-Nearest Neighbor Classifier"
      ],
      "metadata": {
        "id": "pqJ1xvU8KQW9"
      },
      "id": "pqJ1xvU8KQW9"
    },
    {
      "cell_type": "code",
      "source": [
        "from sklearn.neighbors import KNeighborsClassifier\n",
        "knn_clf = GaussianNB()\n",
        "knn_clf.fit(X_train_smote,y_train_smote)\n",
        "knn_clf.score(X_test,y_test)"
      ],
      "metadata": {
        "colab": {
          "base_uri": "https://localhost:8080/"
        },
        "id": "VM3AFJ5eKNMQ",
        "outputId": "e84294a6-942e-4745-c477-95925ef7a7dd"
      },
      "id": "VM3AFJ5eKNMQ",
      "execution_count": 87,
      "outputs": [
        {
          "output_type": "execute_result",
          "data": {
            "text/plain": [
              "0.7725118483412322"
            ]
          },
          "metadata": {},
          "execution_count": 87
        }
      ]
    },
    {
      "cell_type": "code",
      "source": [
        "# Проверяем этот классификатор работает на тестовых данных и строим матрицу ошибок\n",
        "plot_confusion_matrix(knn_clf, X_test, y_test, display_labels=[\"Нет PVT\", \"Есть PVT\"])"
      ],
      "metadata": {
        "colab": {
          "base_uri": "https://localhost:8080/",
          "height": 352
        },
        "id": "d45LYfcMRA-n",
        "outputId": "2b415319-063f-49c5-be1e-38f5eae9ca06"
      },
      "id": "d45LYfcMRA-n",
      "execution_count": 88,
      "outputs": [
        {
          "output_type": "stream",
          "name": "stderr",
          "text": [
            "/usr/local/lib/python3.7/dist-packages/sklearn/utils/deprecation.py:87: FutureWarning: Function plot_confusion_matrix is deprecated; Function `plot_confusion_matrix` is deprecated in 1.0 and will be removed in 1.2. Use one of the class methods: ConfusionMatrixDisplay.from_predictions or ConfusionMatrixDisplay.from_estimator.\n",
            "  warnings.warn(msg, category=FutureWarning)\n"
          ]
        },
        {
          "output_type": "execute_result",
          "data": {
            "text/plain": [
              "<sklearn.metrics._plot.confusion_matrix.ConfusionMatrixDisplay at 0x7fb74f5b0650>"
            ]
          },
          "metadata": {},
          "execution_count": 88
        },
        {
          "output_type": "display_data",
          "data": {
            "text/plain": [
              "<Figure size 432x288 with 2 Axes>"
            ],
            "image/png": "[encoded data removed]"
          },
          "metadata": {
            "needs_background": "light"
          }
        }
      ]
    },
    {
      "cell_type": "code",
      "source": [
        "report = classification_report(y_test, knn_clf.predict(X_test), target_names=['Нет PVT', 'Есть PVT'])\n",
        "print(report)"
      ],
      "metadata": {
        "colab": {
          "base_uri": "https://localhost:8080/"
        },
        "id": "f5PCkaI7kVTQ",
        "outputId": "c4309ad8-2e91-461a-a0bc-fb6cd62c7ae5"
      },
      "id": "f5PCkaI7kVTQ",
      "execution_count": 90,
      "outputs": [
        {
          "output_type": "stream",
          "name": "stdout",
          "text": [
            "              precision    recall  f1-score   support\n",
            "\n",
            "     Нет PVT       0.92      0.80      0.86       178\n",
            "    Есть PVT       0.37      0.64      0.47        33\n",
            "\n",
            "    accuracy                           0.77       211\n",
            "   macro avg       0.65      0.72      0.66       211\n",
            "weighted avg       0.84      0.77      0.79       211\n",
            "\n"
          ]
        }
      ]
    },
    {
      "cell_type": "markdown",
      "source": [
        "# Строим классификаторы на основе линейных моделей"
      ],
      "metadata": {
        "id": "Sj5oeBX4_jbD"
      },
      "id": "Sj5oeBX4_jbD"
    },
    {
      "cell_type": "markdown",
      "source": [
        "## Logistic Regression Classifier"
      ],
      "metadata": {
        "id": "bShA-Xz6K1L_"
      },
      "id": "bShA-Xz6K1L_"
    },
    {
      "cell_type": "code",
      "source": [
        "from sklearn.linear_model import LogisticRegression\n",
        "lr_clf = LogisticRegression()\n",
        "lr_clf.fit(X_train_smote,y_train_smote)\n",
        "lr_clf.score(X_test,y_test)"
      ],
      "metadata": {
        "colab": {
          "base_uri": "https://localhost:8080/"
        },
        "id": "yTZOlXDiJdst",
        "outputId": "c04a007f-3c92-4ccb-b802-9ca73e4dd450"
      },
      "id": "yTZOlXDiJdst",
      "execution_count": 91,
      "outputs": [
        {
          "output_type": "execute_result",
          "data": {
            "text/plain": [
              "0.7772511848341233"
            ]
          },
          "metadata": {},
          "execution_count": 91
        }
      ]
    },
    {
      "cell_type": "code",
      "source": [
        "# Проверяем этот классификатор работает на тестовых данных и строим матрицу ошибок\n",
        "plot_confusion_matrix(lr_clf, X_test, y_test, display_labels=[\"Нет PVT\", \"Есть PVT\"])"
      ],
      "metadata": {
        "colab": {
          "base_uri": "https://localhost:8080/",
          "height": 351
        },
        "id": "FgkfhaBLRJ_3",
        "outputId": "f6dabc10-54cf-485f-b708-6b0404401c3e"
      },
      "id": "FgkfhaBLRJ_3",
      "execution_count": 92,
      "outputs": [
        {
          "output_type": "stream",
          "name": "stderr",
          "text": [
            "/usr/local/lib/python3.7/dist-packages/sklearn/utils/deprecation.py:87: FutureWarning: Function plot_confusion_matrix is deprecated; Function `plot_confusion_matrix` is deprecated in 1.0 and will be removed in 1.2. Use one of the class methods: ConfusionMatrixDisplay.from_predictions or ConfusionMatrixDisplay.from_estimator.\n",
            "  warnings.warn(msg, category=FutureWarning)\n"
          ]
        },
        {
          "output_type": "execute_result",
          "data": {
            "text/plain": [
              "<sklearn.metrics._plot.confusion_matrix.ConfusionMatrixDisplay at 0x7fb7498fee90>"
            ]
          },
          "metadata": {},
          "execution_count": 92
        },
        {
          "output_type": "display_data",
          "data": {
            "text/plain": [
              "<Figure size 432x288 with 2 Axes>"
            ],
            "image/png": "[encoded data removed]"
          },
          "metadata": {
            "needs_background": "light"
          }
        }
      ]
    },
    {
      "cell_type": "code",
      "source": [
        "report = classification_report(y_test, lr_clf.predict(X_test), target_names=['Нет PVT', 'Есть PVT'])\n",
        "print(report)"
      ],
      "metadata": {
        "colab": {
          "base_uri": "https://localhost:8080/"
        },
        "id": "HX89_TiYkcxH",
        "outputId": "9706b13a-3f3b-4491-cb06-18e93d651205"
      },
      "id": "HX89_TiYkcxH",
      "execution_count": 93,
      "outputs": [
        {
          "output_type": "stream",
          "name": "stdout",
          "text": [
            "              precision    recall  f1-score   support\n",
            "\n",
            "     Нет PVT       0.95      0.78      0.86       178\n",
            "    Есть PVT       0.39      0.76      0.52        33\n",
            "\n",
            "    accuracy                           0.78       211\n",
            "   macro avg       0.67      0.77      0.69       211\n",
            "weighted avg       0.86      0.78      0.80       211\n",
            "\n"
          ]
        }
      ]
    },
    {
      "cell_type": "markdown",
      "source": [
        "## SVM Classifier"
      ],
      "metadata": {
        "id": "_lM1RkJtLWtG"
      },
      "id": "_lM1RkJtLWtG"
    },
    {
      "cell_type": "code",
      "source": [
        "from sklearn.svm import SVC\n",
        "sv_clf = SVC(probability=True, kernel='linear')\n",
        "sv_clf.fit(X_train_smote,y_train_smote)\n",
        "sv_clf.score(X_test,y_test)"
      ],
      "metadata": {
        "colab": {
          "base_uri": "https://localhost:8080/"
        },
        "id": "x3ee5GmrLV7D",
        "outputId": "048176e6-7caa-4d2a-b079-fc5d32383219"
      },
      "id": "x3ee5GmrLV7D",
      "execution_count": 94,
      "outputs": [
        {
          "output_type": "execute_result",
          "data": {
            "text/plain": [
              "0.7819905213270142"
            ]
          },
          "metadata": {},
          "execution_count": 94
        }
      ]
    },
    {
      "cell_type": "code",
      "source": [
        "# Проверяем этот классификатор работает на тестовых данных и строим матрицу ошибок\n",
        "plot_confusion_matrix(sv_clf, X_test, y_test, display_labels=[\"Нет PVT\", \"Есть PVT\"])"
      ],
      "metadata": {
        "colab": {
          "base_uri": "https://localhost:8080/",
          "height": 354
        },
        "id": "Qd43G6WiRTQJ",
        "outputId": "dcc2a7f5-b7a2-4801-dfbf-674aaadf0d5d"
      },
      "id": "Qd43G6WiRTQJ",
      "execution_count": 95,
      "outputs": [
        {
          "output_type": "stream",
          "name": "stderr",
          "text": [
            "/usr/local/lib/python3.7/dist-packages/sklearn/utils/deprecation.py:87: FutureWarning: Function plot_confusion_matrix is deprecated; Function `plot_confusion_matrix` is deprecated in 1.0 and will be removed in 1.2. Use one of the class methods: ConfusionMatrixDisplay.from_predictions or ConfusionMatrixDisplay.from_estimator.\n",
            "  warnings.warn(msg, category=FutureWarning)\n"
          ]
        },
        {
          "output_type": "execute_result",
          "data": {
            "text/plain": [
              "<sklearn.metrics._plot.confusion_matrix.ConfusionMatrixDisplay at 0x7fb7497c62d0>"
            ]
          },
          "metadata": {},
          "execution_count": 95
        },
        {
          "output_type": "display_data",
          "data": {
            "text/plain": [
              "<Figure size 432x288 with 2 Axes>"
            ],
            "image/png": "[encoded data removed]"
          },
          "metadata": {
            "needs_background": "light"
          }
        }
      ]
    },
    {
      "cell_type": "code",
      "source": [
        "report = classification_report(y_test, sv_clf.predict(X_test), target_names=['Нет PVT', 'Есть PVT'])\n",
        "print(report)"
      ],
      "metadata": {
        "colab": {
          "base_uri": "https://localhost:8080/"
        },
        "id": "fbKI0KdRksPv",
        "outputId": "e6ddcae7-b0b7-4122-9c34-77c2c768a685"
      },
      "id": "fbKI0KdRksPv",
      "execution_count": 96,
      "outputs": [
        {
          "output_type": "stream",
          "name": "stdout",
          "text": [
            "              precision    recall  f1-score   support\n",
            "\n",
            "     Нет PVT       0.94      0.79      0.86       178\n",
            "    Есть PVT       0.39      0.73      0.51        33\n",
            "\n",
            "    accuracy                           0.78       211\n",
            "   macro avg       0.67      0.76      0.69       211\n",
            "weighted avg       0.85      0.78      0.81       211\n",
            "\n"
          ]
        }
      ]
    },
    {
      "cell_type": "markdown",
      "source": [
        "# Prediction Probabilities"
      ],
      "metadata": {
        "id": "q_9NHYz1L-co"
      },
      "id": "q_9NHYz1L-co"
    },
    {
      "cell_type": "code",
      "source": [
        "r_prob = [0 for _ in range(len(y_test))]\n",
        "rf_probs = rf_clf.predict_proba(X_test)\n",
        "nb_probs = nb_clf.predict_proba(X_test)\n",
        "dt_probs = dt_clf.predict_proba(X_test)\n",
        "knn_probs = knn_clf.predict_proba(X_test)\n",
        "lr_probs = lr_clf.predict_proba(X_test)\n",
        "sv_probs = sv_clf.predict_proba(X_test)\n"
      ],
      "metadata": {
        "id": "LKh53NFwL9NS"
      },
      "id": "LKh53NFwL9NS",
      "execution_count": 57,
      "outputs": []
    },
    {
      "cell_type": "code",
      "source": [
        "rf_probs = rf_probs[:,1]\n",
        "nb_probs = nb_probs[:,1]\n",
        "dt_probs = dt_probs[:,1]\n",
        "knn_probs = knn_probs[:,1]\n",
        "lr_probs = lr_probs[:,1]\n",
        "sv_probs = sv_probs[:,1]"
      ],
      "metadata": {
        "id": "3_SBthKoPDAy"
      },
      "id": "3_SBthKoPDAy",
      "execution_count": 58,
      "outputs": []
    },
    {
      "cell_type": "markdown",
      "source": [
        "# AUROC"
      ],
      "metadata": {
        "id": "FpB2o75MN1cD"
      },
      "id": "FpB2o75MN1cD"
    },
    {
      "cell_type": "code",
      "source": [
        "from sklearn.metrics import roc_curve, roc_auc_score # вычисление значений\n",
        "# r_auc = roc_auc_score(y_test, r_probs)\n",
        "rf_auc = roc_auc_score(y_test, rf_probs)\n",
        "nb_auc = roc_auc_score(y_test, nb_probs)\n",
        "dt_auc = roc_auc_score(y_test, dt_probs)\n",
        "knn_auc = roc_auc_score(y_test, knn_probs)\n",
        "lr_auc = roc_auc_score(y_test, lr_probs)\n",
        "sv_auc = roc_auc_score(y_test, sv_probs)\n"
      ],
      "metadata": {
        "id": "OQgW3gDNN0hm"
      },
      "id": "OQgW3gDNN0hm",
      "execution_count": 60,
      "outputs": []
    },
    {
      "cell_type": "code",
      "source": [
        "#print(\"Random Prediction: AUROC = %.3f\" %(r_auc))\n",
        "print(\"Random Forest: AUROC = %.3f\" %(rf_auc))\n",
        "print(\"Naive Bayes: AUROC = %.3f\" %(nb_auc))\n",
        "print(\"Decision Tree: AUROC = %.3f\" %(dt_auc))\n",
        "print(\"KNN: AUROC = %.3f\" %(knn_auc))\n",
        "print(\"Logistic regression: AUROC = %.3f\" %(lr_auc))\n",
        "print(\"SVM: AUROC = %.3f\" %(sv_auc))"
      ],
      "metadata": {
        "colab": {
          "base_uri": "https://localhost:8080/"
        },
        "id": "MpzJLltKNxjd",
        "outputId": "1933b257-0336-4882-decc-9c22596d2f23"
      },
      "id": "MpzJLltKNxjd",
      "execution_count": 61,
      "outputs": [
        {
          "output_type": "stream",
          "name": "stdout",
          "text": [
            "Random Forest: AUROC = 0.816\n",
            "Naive Bayes: AUROC = 0.795\n",
            "Decision Tree: AUROC = 0.724\n",
            "KNN: AUROC = 0.795\n",
            "Logistic regression: AUROC = 0.865\n",
            "SVM: AUROC = 0.868\n"
          ]
        }
      ]
    }
  ],
  "metadata": {
    "kernelspec": {
      "display_name": "Python 3 (ipykernel)",
      "language": "python",
      "name": "python3"
    },
    "language_info": {
      "codemirror_mode": {
        "name": "ipython",
        "version": 3
      },
      "file_extension": ".py",
      "mimetype": "text/x-python",
      "name": "python",
      "nbconvert_exporter": "python",
      "pygments_lexer": "ipython3",
      "version": "3.9.7"
    },
    "colab": {
      "name": "PVT_ALL_Features_ALL_Classifier_3.ipynb",
      "provenance": [],
      "collapsed_sections": []
    }
  },
  "nbformat": 4,
  "nbformat_minor": 5
}