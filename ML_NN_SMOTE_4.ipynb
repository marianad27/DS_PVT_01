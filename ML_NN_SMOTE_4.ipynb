{
  "nbformat": 4,
  "nbformat_minor": 0,
  "metadata": {
    "colab": {
      "name": "ML_NN_SMOTE_4.ipynb",
      "provenance": [],
      "collapsed_sections": []
    },
    "kernelspec": {
      "name": "python3",
      "display_name": "Python 3"
    },
    "language_info": {
      "name": "python"
    }
  },
  "cells": [
    {
      "cell_type": "code",
      "execution_count": 1,
      "metadata": {
        "id": "o-WuxQfa9MdB"
      },
      "outputs": [],
      "source": [
        "# загружаем библиотеки\n",
        "import pandas as pd\n",
        "import numpy as np\n",
        "import scipy \n",
        "\n",
        "#sklearn\n",
        "from sklearn.model_selection import train_test_split\n",
        "from sklearn.metrics import accuracy_score\n",
        "\n",
        "#глубокое обучение\n",
        "from tensorflow.keras import Sequential, optimizers\n",
        "from tensorflow.keras.layers import Dense, Dropout, BatchNormalization, Activation\n",
        "\n",
        "from matplotlib import pyplot\n",
        "\n",
        "%matplotlib inline"
      ]
    },
    {
      "cell_type": "code",
      "source": [
        "from google.colab import  files\n",
        "uploaded = files.upload()\n"
      ],
      "metadata": {
        "colab": {
          "resources": {
            "http://localhost:8080/nbextensions/google.colab/files.js": {
              "data": "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",
              "ok": true,
              "headers": [
                [
                  "content-type",
                  "application/javascript"
                ]
              ],
              "status": 200,
              "status_text": ""
            }
          },
          "base_uri": "https://localhost:8080/",
          "height": 74
        },
        "id": "OvOMG6rB9VnW",
        "outputId": "a18462ee-8f1e-4a6c-8fa8-540751464075"
      },
      "execution_count": 2,
      "outputs": [
        {
          "output_type": "display_data",
          "data": {
            "text/plain": [
              "<IPython.core.display.HTML object>"
            ],
            "text/html": [
              "\n",
              "     <input type=\"file\" id=\"files-3cbdc212-870e-4a0c-b90e-19b257140923\" name=\"files[]\" multiple disabled\n",
              "        style=\"border:none\" />\n",
              "     <output id=\"result-3cbdc212-870e-4a0c-b90e-19b257140923\">\n",
              "      Upload widget is only available when the cell has been executed in the\n",
              "      current browser session. Please rerun this cell to enable.\n",
              "      </output>\n",
              "      <script src=\"/nbextensions/google.colab/files.js\"></script> "
            ]
          },
          "metadata": {}
        },
        {
          "output_type": "stream",
          "name": "stdout",
          "text": [
            "Saving DS_PVT_LOG_REGRESSION.xlsx to DS_PVT_LOG_REGRESSION.xlsx\n"
          ]
        }
      ]
    },
    {
      "cell_type": "code",
      "source": [
        "df = pd.read_excel(open('DS_PVT_LOG_REGRESSION.xlsx', 'rb'))"
      ],
      "metadata": {
        "id": "cfDN0AIZ9V_X"
      },
      "execution_count": 3,
      "outputs": []
    },
    {
      "cell_type": "code",
      "source": [
        "df.info()"
      ],
      "metadata": {
        "colab": {
          "base_uri": "https://localhost:8080/"
        },
        "id": "u4f_gVQz9WCS",
        "outputId": "5a8326bd-2aff-41fc-eaf4-e0d3699f1c91"
      },
      "execution_count": 4,
      "outputs": [
        {
          "output_type": "stream",
          "name": "stdout",
          "text": [
            "<class 'pandas.core.frame.DataFrame'>\n",
            "RangeIndex: 841 entries, 0 to 840\n",
            "Data columns (total 9 columns):\n",
            " #   Column          Non-Null Count  Dtype  \n",
            "---  ------          --------------  -----  \n",
            " 0   PVT             841 non-null    int64  \n",
            " 1   Local           841 non-null    int64  \n",
            " 2   Ascites_simple  841 non-null    int64  \n",
            " 3   EVL_simple      841 non-null    int64  \n",
            " 4   PH_dur_simple   841 non-null    int64  \n",
            " 5   HB_NORM         841 non-null    float64\n",
            " 6   PLT_NORM        841 non-null    float64\n",
            " 7   TB_NORM         841 non-null    float64\n",
            " 8   PV_diam_NORM    841 non-null    float64\n",
            "dtypes: float64(4), int64(5)\n",
            "memory usage: 59.3 KB\n"
          ]
        }
      ]
    },
    {
      "cell_type": "code",
      "source": [
        "df.head()"
      ],
      "metadata": {
        "colab": {
          "base_uri": "https://localhost:8080/",
          "height": 206
        },
        "id": "hz6OkN5T-ouA",
        "outputId": "b13721dd-4120-4c50-f2e2-ac3922e14f5c"
      },
      "execution_count": 5,
      "outputs": [
        {
          "output_type": "execute_result",
          "data": {
            "text/plain": [
              "   PVT  Local  Ascites_simple  EVL_simple  PH_dur_simple  HB_NORM  PLT_NORM  \\\n",
              "0    1      0               0           0              1    0.542     0.226   \n",
              "1    1      0               1           0              0    0.569     0.289   \n",
              "2    1      1               1           0              0    0.406     0.063   \n",
              "3    1      0               1           0              0    0.656     0.196   \n",
              "4    1      0               1           0              0    0.649     0.089   \n",
              "\n",
              "   TB_NORM  PV_diam_NORM  \n",
              "0    0.045         0.329  \n",
              "1    0.098         0.419  \n",
              "2    0.039         0.452  \n",
              "3    0.190         0.161  \n",
              "4    0.033         0.303  "
            ],
            "text/html": [
              "\n",
              "  <div id=\"df-a55d598f-0764-4d70-a848-174d5fcc486e\">\n",
              "    <div class=\"colab-df-container\">\n",
              "      <div>\n",
              "<style scoped>\n",
              "    .dataframe tbody tr th:only-of-type {\n",
              "        vertical-align: middle;\n",
              "    }\n",
              "\n",
              "    .dataframe tbody tr th {\n",
              "        vertical-align: top;\n",
              "    }\n",
              "\n",
              "    .dataframe thead th {\n",
              "        text-align: right;\n",
              "    }\n",
              "</style>\n",
              "<table border=\"1\" class=\"dataframe\">\n",
              "  <thead>\n",
              "    <tr style=\"text-align: right;\">\n",
              "      <th></th>\n",
              "      <th>PVT</th>\n",
              "      <th>Local</th>\n",
              "      <th>Ascites_simple</th>\n",
              "      <th>EVL_simple</th>\n",
              "      <th>PH_dur_simple</th>\n",
              "      <th>HB_NORM</th>\n",
              "      <th>PLT_NORM</th>\n",
              "      <th>TB_NORM</th>\n",
              "      <th>PV_diam_NORM</th>\n",
              "    </tr>\n",
              "  </thead>\n",
              "  <tbody>\n",
              "    <tr>\n",
              "      <th>0</th>\n",
              "      <td>1</td>\n",
              "      <td>0</td>\n",
              "      <td>0</td>\n",
              "      <td>0</td>\n",
              "      <td>1</td>\n",
              "      <td>0.542</td>\n",
              "      <td>0.226</td>\n",
              "      <td>0.045</td>\n",
              "      <td>0.329</td>\n",
              "    </tr>\n",
              "    <tr>\n",
              "      <th>1</th>\n",
              "      <td>1</td>\n",
              "      <td>0</td>\n",
              "      <td>1</td>\n",
              "      <td>0</td>\n",
              "      <td>0</td>\n",
              "      <td>0.569</td>\n",
              "      <td>0.289</td>\n",
              "      <td>0.098</td>\n",
              "      <td>0.419</td>\n",
              "    </tr>\n",
              "    <tr>\n",
              "      <th>2</th>\n",
              "      <td>1</td>\n",
              "      <td>1</td>\n",
              "      <td>1</td>\n",
              "      <td>0</td>\n",
              "      <td>0</td>\n",
              "      <td>0.406</td>\n",
              "      <td>0.063</td>\n",
              "      <td>0.039</td>\n",
              "      <td>0.452</td>\n",
              "    </tr>\n",
              "    <tr>\n",
              "      <th>3</th>\n",
              "      <td>1</td>\n",
              "      <td>0</td>\n",
              "      <td>1</td>\n",
              "      <td>0</td>\n",
              "      <td>0</td>\n",
              "      <td>0.656</td>\n",
              "      <td>0.196</td>\n",
              "      <td>0.190</td>\n",
              "      <td>0.161</td>\n",
              "    </tr>\n",
              "    <tr>\n",
              "      <th>4</th>\n",
              "      <td>1</td>\n",
              "      <td>0</td>\n",
              "      <td>1</td>\n",
              "      <td>0</td>\n",
              "      <td>0</td>\n",
              "      <td>0.649</td>\n",
              "      <td>0.089</td>\n",
              "      <td>0.033</td>\n",
              "      <td>0.303</td>\n",
              "    </tr>\n",
              "  </tbody>\n",
              "</table>\n",
              "</div>\n",
              "      <button class=\"colab-df-convert\" onclick=\"convertToInteractive('df-a55d598f-0764-4d70-a848-174d5fcc486e')\"\n",
              "              title=\"Convert this dataframe to an interactive table.\"\n",
              "              style=\"display:none;\">\n",
              "        \n",
              "  <svg xmlns=\"http://www.w3.org/2000/svg\" height=\"24px\"viewBox=\"0 0 24 24\"\n",
              "       width=\"24px\">\n",
              "    <path d=\"M0 0h24v24H0V0z\" fill=\"none\"/>\n",
              "    <path d=\"M18.56 5.44l.94 2.06.94-2.06 2.06-.94-2.06-.94-.94-2.06-.94 2.06-2.06.94zm-11 1L8.5 8.5l.94-2.06 2.06-.94-2.06-.94L8.5 2.5l-.94 2.06-2.06.94zm10 10l.94 2.06.94-2.06 2.06-.94-2.06-.94-.94-2.06-.94 2.06-2.06.94z\"/><path d=\"M17.41 7.96l-1.37-1.37c-.4-.4-.92-.59-1.43-.59-.52 0-1.04.2-1.43.59L10.3 9.45l-7.72 7.72c-.78.78-.78 2.05 0 2.83L4 21.41c.39.39.9.59 1.41.59.51 0 1.02-.2 1.41-.59l7.78-7.78 2.81-2.81c.8-.78.8-2.07 0-2.86zM5.41 20L4 18.59l7.72-7.72 1.47 1.35L5.41 20z\"/>\n",
              "  </svg>\n",
              "      </button>\n",
              "      \n",
              "  <style>\n",
              "    .colab-df-container {\n",
              "      display:flex;\n",
              "      flex-wrap:wrap;\n",
              "      gap: 12px;\n",
              "    }\n",
              "\n",
              "    .colab-df-convert {\n",
              "      background-color: #E8F0FE;\n",
              "      border: none;\n",
              "      border-radius: 50%;\n",
              "      cursor: pointer;\n",
              "      display: none;\n",
              "      fill: #1967D2;\n",
              "      height: 32px;\n",
              "      padding: 0 0 0 0;\n",
              "      width: 32px;\n",
              "    }\n",
              "\n",
              "    .colab-df-convert:hover {\n",
              "      background-color: #E2EBFA;\n",
              "      box-shadow: 0px 1px 2px rgba(60, 64, 67, 0.3), 0px 1px 3px 1px rgba(60, 64, 67, 0.15);\n",
              "      fill: #174EA6;\n",
              "    }\n",
              "\n",
              "    [theme=dark] .colab-df-convert {\n",
              "      background-color: #3B4455;\n",
              "      fill: #D2E3FC;\n",
              "    }\n",
              "\n",
              "    [theme=dark] .colab-df-convert:hover {\n",
              "      background-color: #434B5C;\n",
              "      box-shadow: 0px 1px 3px 1px rgba(0, 0, 0, 0.15);\n",
              "      filter: drop-shadow(0px 1px 2px rgba(0, 0, 0, 0.3));\n",
              "      fill: #FFFFFF;\n",
              "    }\n",
              "  </style>\n",
              "\n",
              "      <script>\n",
              "        const buttonEl =\n",
              "          document.querySelector('#df-a55d598f-0764-4d70-a848-174d5fcc486e button.colab-df-convert');\n",
              "        buttonEl.style.display =\n",
              "          google.colab.kernel.accessAllowed ? 'block' : 'none';\n",
              "\n",
              "        async function convertToInteractive(key) {\n",
              "          const element = document.querySelector('#df-a55d598f-0764-4d70-a848-174d5fcc486e');\n",
              "          const dataTable =\n",
              "            await google.colab.kernel.invokeFunction('convertToInteractive',\n",
              "                                                     [key], {});\n",
              "          if (!dataTable) return;\n",
              "\n",
              "          const docLinkHtml = 'Like what you see? Visit the ' +\n",
              "            '<a target=\"_blank\" href=https://colab.research.google.com/notebooks/data_table.ipynb>data table notebook</a>'\n",
              "            + ' to learn more about interactive tables.';\n",
              "          element.innerHTML = '';\n",
              "          dataTable['output_type'] = 'display_data';\n",
              "          await google.colab.output.renderOutput(dataTable, element);\n",
              "          const docLink = document.createElement('div');\n",
              "          docLink.innerHTML = docLinkHtml;\n",
              "          element.appendChild(docLink);\n",
              "        }\n",
              "      </script>\n",
              "    </div>\n",
              "  </div>\n",
              "  "
            ]
          },
          "metadata": {},
          "execution_count": 5
        }
      ]
    },
    {
      "cell_type": "code",
      "source": [
        "df['PVT'].value_counts()"
      ],
      "metadata": {
        "colab": {
          "base_uri": "https://localhost:8080/"
        },
        "id": "FRlrOhP8-sjX",
        "outputId": "c90320d7-b709-4e24-9274-cd157a980c8e"
      },
      "execution_count": 6,
      "outputs": [
        {
          "output_type": "execute_result",
          "data": {
            "text/plain": [
              "0    708\n",
              "1    133\n",
              "Name: PVT, dtype: int64"
            ]
          },
          "metadata": {},
          "execution_count": 6
        }
      ]
    },
    {
      "cell_type": "code",
      "source": [
        "# df = df.drop('ID_Number', axis = 1) # удаляем столбец с идентификационными данными"
      ],
      "metadata": {
        "id": "ajE00g68BhGM"
      },
      "execution_count": null,
      "outputs": []
    },
    {
      "cell_type": "code",
      "source": [
        "X = df.drop('PVT', axis=1).copy() # X - предикторы PVT\n",
        "X.head() # смотрим первые 5 строк: целевая переменная PVT отсутствует"
      ],
      "metadata": {
        "colab": {
          "base_uri": "https://localhost:8080/",
          "height": 206
        },
        "id": "CeO_rkNI-3k9",
        "outputId": "e54def93-9b87-4528-e2c3-e89bdfa0611c"
      },
      "execution_count": 7,
      "outputs": [
        {
          "output_type": "execute_result",
          "data": {
            "text/plain": [
              "   Local  Ascites_simple  EVL_simple  PH_dur_simple  HB_NORM  PLT_NORM  \\\n",
              "0      0               0           0              1    0.542     0.226   \n",
              "1      0               1           0              0    0.569     0.289   \n",
              "2      1               1           0              0    0.406     0.063   \n",
              "3      0               1           0              0    0.656     0.196   \n",
              "4      0               1           0              0    0.649     0.089   \n",
              "\n",
              "   TB_NORM  PV_diam_NORM  \n",
              "0    0.045         0.329  \n",
              "1    0.098         0.419  \n",
              "2    0.039         0.452  \n",
              "3    0.190         0.161  \n",
              "4    0.033         0.303  "
            ],
            "text/html": [
              "\n",
              "  <div id=\"df-a55cdd76-5187-43e7-9c2c-b7db09472e8b\">\n",
              "    <div class=\"colab-df-container\">\n",
              "      <div>\n",
              "<style scoped>\n",
              "    .dataframe tbody tr th:only-of-type {\n",
              "        vertical-align: middle;\n",
              "    }\n",
              "\n",
              "    .dataframe tbody tr th {\n",
              "        vertical-align: top;\n",
              "    }\n",
              "\n",
              "    .dataframe thead th {\n",
              "        text-align: right;\n",
              "    }\n",
              "</style>\n",
              "<table border=\"1\" class=\"dataframe\">\n",
              "  <thead>\n",
              "    <tr style=\"text-align: right;\">\n",
              "      <th></th>\n",
              "      <th>Local</th>\n",
              "      <th>Ascites_simple</th>\n",
              "      <th>EVL_simple</th>\n",
              "      <th>PH_dur_simple</th>\n",
              "      <th>HB_NORM</th>\n",
              "      <th>PLT_NORM</th>\n",
              "      <th>TB_NORM</th>\n",
              "      <th>PV_diam_NORM</th>\n",
              "    </tr>\n",
              "  </thead>\n",
              "  <tbody>\n",
              "    <tr>\n",
              "      <th>0</th>\n",
              "      <td>0</td>\n",
              "      <td>0</td>\n",
              "      <td>0</td>\n",
              "      <td>1</td>\n",
              "      <td>0.542</td>\n",
              "      <td>0.226</td>\n",
              "      <td>0.045</td>\n",
              "      <td>0.329</td>\n",
              "    </tr>\n",
              "    <tr>\n",
              "      <th>1</th>\n",
              "      <td>0</td>\n",
              "      <td>1</td>\n",
              "      <td>0</td>\n",
              "      <td>0</td>\n",
              "      <td>0.569</td>\n",
              "      <td>0.289</td>\n",
              "      <td>0.098</td>\n",
              "      <td>0.419</td>\n",
              "    </tr>\n",
              "    <tr>\n",
              "      <th>2</th>\n",
              "      <td>1</td>\n",
              "      <td>1</td>\n",
              "      <td>0</td>\n",
              "      <td>0</td>\n",
              "      <td>0.406</td>\n",
              "      <td>0.063</td>\n",
              "      <td>0.039</td>\n",
              "      <td>0.452</td>\n",
              "    </tr>\n",
              "    <tr>\n",
              "      <th>3</th>\n",
              "      <td>0</td>\n",
              "      <td>1</td>\n",
              "      <td>0</td>\n",
              "      <td>0</td>\n",
              "      <td>0.656</td>\n",
              "      <td>0.196</td>\n",
              "      <td>0.190</td>\n",
              "      <td>0.161</td>\n",
              "    </tr>\n",
              "    <tr>\n",
              "      <th>4</th>\n",
              "      <td>0</td>\n",
              "      <td>1</td>\n",
              "      <td>0</td>\n",
              "      <td>0</td>\n",
              "      <td>0.649</td>\n",
              "      <td>0.089</td>\n",
              "      <td>0.033</td>\n",
              "      <td>0.303</td>\n",
              "    </tr>\n",
              "  </tbody>\n",
              "</table>\n",
              "</div>\n",
              "      <button class=\"colab-df-convert\" onclick=\"convertToInteractive('df-a55cdd76-5187-43e7-9c2c-b7db09472e8b')\"\n",
              "              title=\"Convert this dataframe to an interactive table.\"\n",
              "              style=\"display:none;\">\n",
              "        \n",
              "  <svg xmlns=\"http://www.w3.org/2000/svg\" height=\"24px\"viewBox=\"0 0 24 24\"\n",
              "       width=\"24px\">\n",
              "    <path d=\"M0 0h24v24H0V0z\" fill=\"none\"/>\n",
              "    <path d=\"M18.56 5.44l.94 2.06.94-2.06 2.06-.94-2.06-.94-.94-2.06-.94 2.06-2.06.94zm-11 1L8.5 8.5l.94-2.06 2.06-.94-2.06-.94L8.5 2.5l-.94 2.06-2.06.94zm10 10l.94 2.06.94-2.06 2.06-.94-2.06-.94-.94-2.06-.94 2.06-2.06.94z\"/><path d=\"M17.41 7.96l-1.37-1.37c-.4-.4-.92-.59-1.43-.59-.52 0-1.04.2-1.43.59L10.3 9.45l-7.72 7.72c-.78.78-.78 2.05 0 2.83L4 21.41c.39.39.9.59 1.41.59.51 0 1.02-.2 1.41-.59l7.78-7.78 2.81-2.81c.8-.78.8-2.07 0-2.86zM5.41 20L4 18.59l7.72-7.72 1.47 1.35L5.41 20z\"/>\n",
              "  </svg>\n",
              "      </button>\n",
              "      \n",
              "  <style>\n",
              "    .colab-df-container {\n",
              "      display:flex;\n",
              "      flex-wrap:wrap;\n",
              "      gap: 12px;\n",
              "    }\n",
              "\n",
              "    .colab-df-convert {\n",
              "      background-color: #E8F0FE;\n",
              "      border: none;\n",
              "      border-radius: 50%;\n",
              "      cursor: pointer;\n",
              "      display: none;\n",
              "      fill: #1967D2;\n",
              "      height: 32px;\n",
              "      padding: 0 0 0 0;\n",
              "      width: 32px;\n",
              "    }\n",
              "\n",
              "    .colab-df-convert:hover {\n",
              "      background-color: #E2EBFA;\n",
              "      box-shadow: 0px 1px 2px rgba(60, 64, 67, 0.3), 0px 1px 3px 1px rgba(60, 64, 67, 0.15);\n",
              "      fill: #174EA6;\n",
              "    }\n",
              "\n",
              "    [theme=dark] .colab-df-convert {\n",
              "      background-color: #3B4455;\n",
              "      fill: #D2E3FC;\n",
              "    }\n",
              "\n",
              "    [theme=dark] .colab-df-convert:hover {\n",
              "      background-color: #434B5C;\n",
              "      box-shadow: 0px 1px 3px 1px rgba(0, 0, 0, 0.15);\n",
              "      filter: drop-shadow(0px 1px 2px rgba(0, 0, 0, 0.3));\n",
              "      fill: #FFFFFF;\n",
              "    }\n",
              "  </style>\n",
              "\n",
              "      <script>\n",
              "        const buttonEl =\n",
              "          document.querySelector('#df-a55cdd76-5187-43e7-9c2c-b7db09472e8b button.colab-df-convert');\n",
              "        buttonEl.style.display =\n",
              "          google.colab.kernel.accessAllowed ? 'block' : 'none';\n",
              "\n",
              "        async function convertToInteractive(key) {\n",
              "          const element = document.querySelector('#df-a55cdd76-5187-43e7-9c2c-b7db09472e8b');\n",
              "          const dataTable =\n",
              "            await google.colab.kernel.invokeFunction('convertToInteractive',\n",
              "                                                     [key], {});\n",
              "          if (!dataTable) return;\n",
              "\n",
              "          const docLinkHtml = 'Like what you see? Visit the ' +\n",
              "            '<a target=\"_blank\" href=https://colab.research.google.com/notebooks/data_table.ipynb>data table notebook</a>'\n",
              "            + ' to learn more about interactive tables.';\n",
              "          element.innerHTML = '';\n",
              "          dataTable['output_type'] = 'display_data';\n",
              "          await google.colab.output.renderOutput(dataTable, element);\n",
              "          const docLink = document.createElement('div');\n",
              "          docLink.innerHTML = docLinkHtml;\n",
              "          element.appendChild(docLink);\n",
              "        }\n",
              "      </script>\n",
              "    </div>\n",
              "  </div>\n",
              "  "
            ]
          },
          "metadata": {},
          "execution_count": 7
        }
      ]
    },
    {
      "cell_type": "code",
      "source": [
        "# y (строчная букава) - целевая переменная (классификационная)\n",
        "# создаем копию столбца, в котором содержится целевая переменная\n",
        "y = df['PVT'].copy().values\n",
        "y = np.stack((y == 0, y), axis=1)\n",
        "y[:10]"
      ],
      "metadata": {
        "colab": {
          "base_uri": "https://localhost:8080/"
        },
        "id": "bT89XTQW_fDi",
        "outputId": "694b1418-5ca2-4968-97f3-5aaa5e66e219"
      },
      "execution_count": 8,
      "outputs": [
        {
          "output_type": "execute_result",
          "data": {
            "text/plain": [
              "array([[0, 1],\n",
              "       [0, 1],\n",
              "       [0, 1],\n",
              "       [0, 1],\n",
              "       [0, 1],\n",
              "       [0, 1],\n",
              "       [0, 1],\n",
              "       [0, 1],\n",
              "       [0, 1],\n",
              "       [0, 1]])"
            ]
          },
          "metadata": {},
          "execution_count": 8
        }
      ]
    },
    {
      "cell_type": "code",
      "source": [
        "# разделяем данные на обучающую и тестовую выборки\n",
        "X_train, X_test, y_train, y_test = train_test_split(X, y, test_size = 0.30, shuffle = True, random_state=42)"
      ],
      "metadata": {
        "id": "x95bz7OP_qcq"
      },
      "execution_count": 9,
      "outputs": []
    },
    {
      "cell_type": "code",
      "source": [
        "print(X_train.shape)\n",
        "print(X_test.shape)\n",
        "print(y_train.shape)\n",
        "print(y_test.shape)"
      ],
      "metadata": {
        "colab": {
          "base_uri": "https://localhost:8080/"
        },
        "id": "-8yS98vOK8Cl",
        "outputId": "4e0c9358-d59f-43b1-cfbd-30fa5e37b180"
      },
      "execution_count": 10,
      "outputs": [
        {
          "output_type": "stream",
          "name": "stdout",
          "text": [
            "(588, 8)\n",
            "(253, 8)\n",
            "(588, 2)\n",
            "(253, 2)\n"
          ]
        }
      ]
    },
    {
      "cell_type": "code",
      "source": [
        "n_features = X.shape[1]"
      ],
      "metadata": {
        "id": "LWyW0gFRMJZz"
      },
      "execution_count": 11,
      "outputs": []
    },
    {
      "cell_type": "markdown",
      "source": [
        "# Строим нейронную сеть на исходных данных: разбалансированный датасет"
      ],
      "metadata": {
        "id": "fipFY0Fkwdbu"
      }
    },
    {
      "cell_type": "code",
      "source": [
        "from sklearn.utils import validation\n",
        "import tensorflow as tf\n",
        "\n",
        "def scheduler(epoch, lr):\n",
        "  if epoch < 30:\n",
        "    return lr\n",
        "  else:\n",
        "    return lr * 0.95  # чтобы уменьшить переобучение уменьшаем lr\n",
        "\n",
        "model = Sequential()\n",
        "model.add(Dense(n_features * 2, input_shape = (n_features,) ))\n",
        "model.add(BatchNormalization())\n",
        "model.add(Activation('tanh'))\n",
        "\n",
        "model.add(Dropout(0.5))\n",
        "model.add(Dense(n_features * 2))\n",
        "model.add(BatchNormalization())\n",
        "model.add(Activation('tanh'))\n",
        "\n",
        "model.add(Dropout(0.5))\n",
        "model.add(Dense(n_features * 2))\n",
        "model.add(BatchNormalization())\n",
        "model.add(Activation('tanh'))\n",
        "\n",
        "model.add(Dense(2, activation = 'softmax'))\n",
        "optimizer = optimizers.Adam(learning_rate=0.005)\n",
        "model.compile(optimizer = optimizer, loss = 'binary_crossentropy')\n",
        "callback = tf.keras.callbacks.LearningRateScheduler(scheduler)\n",
        "history = model.fit(X_train, y_train,\n",
        "                    epochs = 50,\n",
        "                    batch_size = 32,\n",
        "                    verbose = 1,\n",
        "                    validation_data = (X_test, y_test),\n",
        "                    callbacks=[callback])"
      ],
      "metadata": {
        "colab": {
          "base_uri": "https://localhost:8080/"
        },
        "id": "eTtqQV9sMN4o",
        "outputId": "cf8ff978-63ab-4a20-dd35-06d13d20081a"
      },
      "execution_count": 12,
      "outputs": [
        {
          "output_type": "stream",
          "name": "stdout",
          "text": [
            "Epoch 1/50\n",
            "19/19 [==============================] - 2s 15ms/step - loss: 0.6610 - val_loss: 0.6436 - lr: 0.0050\n",
            "Epoch 2/50\n",
            "19/19 [==============================] - 0s 4ms/step - loss: 0.5562 - val_loss: 0.5435 - lr: 0.0050\n",
            "Epoch 3/50\n",
            "19/19 [==============================] - 0s 4ms/step - loss: 0.4588 - val_loss: 0.4417 - lr: 0.0050\n",
            "Epoch 4/50\n",
            "19/19 [==============================] - 0s 5ms/step - loss: 0.4010 - val_loss: 0.3772 - lr: 0.0050\n",
            "Epoch 5/50\n",
            "19/19 [==============================] - 0s 7ms/step - loss: 0.3642 - val_loss: 0.3583 - lr: 0.0050\n",
            "Epoch 6/50\n",
            "19/19 [==============================] - 0s 7ms/step - loss: 0.3493 - val_loss: 0.3524 - lr: 0.0050\n",
            "Epoch 7/50\n",
            "19/19 [==============================] - 0s 9ms/step - loss: 0.3470 - val_loss: 0.3385 - lr: 0.0050\n",
            "Epoch 8/50\n",
            "19/19 [==============================] - 0s 9ms/step - loss: 0.3398 - val_loss: 0.3377 - lr: 0.0050\n",
            "Epoch 9/50\n",
            "19/19 [==============================] - 0s 13ms/step - loss: 0.3581 - val_loss: 0.3454 - lr: 0.0050\n",
            "Epoch 10/50\n",
            "19/19 [==============================] - 0s 7ms/step - loss: 0.3346 - val_loss: 0.3528 - lr: 0.0050\n",
            "Epoch 11/50\n",
            "19/19 [==============================] - 0s 13ms/step - loss: 0.3240 - val_loss: 0.3470 - lr: 0.0050\n",
            "Epoch 12/50\n",
            "19/19 [==============================] - 0s 8ms/step - loss: 0.3458 - val_loss: 0.3455 - lr: 0.0050\n",
            "Epoch 13/50\n",
            "19/19 [==============================] - 0s 8ms/step - loss: 0.3388 - val_loss: 0.3504 - lr: 0.0050\n",
            "Epoch 14/50\n",
            "19/19 [==============================] - 0s 12ms/step - loss: 0.3306 - val_loss: 0.3478 - lr: 0.0050\n",
            "Epoch 15/50\n",
            "19/19 [==============================] - 0s 8ms/step - loss: 0.3447 - val_loss: 0.3445 - lr: 0.0050\n",
            "Epoch 16/50\n",
            "19/19 [==============================] - 0s 14ms/step - loss: 0.3195 - val_loss: 0.3414 - lr: 0.0050\n",
            "Epoch 17/50\n",
            "19/19 [==============================] - 0s 17ms/step - loss: 0.3209 - val_loss: 0.3468 - lr: 0.0050\n",
            "Epoch 18/50\n",
            "19/19 [==============================] - 0s 9ms/step - loss: 0.3202 - val_loss: 0.3543 - lr: 0.0050\n",
            "Epoch 19/50\n",
            "19/19 [==============================] - 0s 12ms/step - loss: 0.3254 - val_loss: 0.3480 - lr: 0.0050\n",
            "Epoch 20/50\n",
            "19/19 [==============================] - 0s 6ms/step - loss: 0.3310 - val_loss: 0.3497 - lr: 0.0050\n",
            "Epoch 21/50\n",
            "19/19 [==============================] - 0s 5ms/step - loss: 0.3179 - val_loss: 0.3522 - lr: 0.0050\n",
            "Epoch 22/50\n",
            "19/19 [==============================] - 0s 5ms/step - loss: 0.3294 - val_loss: 0.3565 - lr: 0.0050\n",
            "Epoch 23/50\n",
            "19/19 [==============================] - 0s 4ms/step - loss: 0.3330 - val_loss: 0.3479 - lr: 0.0050\n",
            "Epoch 24/50\n",
            "19/19 [==============================] - 0s 4ms/step - loss: 0.3127 - val_loss: 0.3465 - lr: 0.0050\n",
            "Epoch 25/50\n",
            "19/19 [==============================] - 0s 5ms/step - loss: 0.3102 - val_loss: 0.3539 - lr: 0.0050\n",
            "Epoch 26/50\n",
            "19/19 [==============================] - 0s 4ms/step - loss: 0.3133 - val_loss: 0.3559 - lr: 0.0050\n",
            "Epoch 27/50\n",
            "19/19 [==============================] - 0s 5ms/step - loss: 0.3244 - val_loss: 0.3581 - lr: 0.0050\n",
            "Epoch 28/50\n",
            "19/19 [==============================] - 0s 4ms/step - loss: 0.3311 - val_loss: 0.3537 - lr: 0.0050\n",
            "Epoch 29/50\n",
            "19/19 [==============================] - 0s 5ms/step - loss: 0.3091 - val_loss: 0.3478 - lr: 0.0050\n",
            "Epoch 30/50\n",
            "19/19 [==============================] - 0s 6ms/step - loss: 0.3155 - val_loss: 0.3491 - lr: 0.0050\n",
            "Epoch 31/50\n",
            "19/19 [==============================] - 0s 5ms/step - loss: 0.3176 - val_loss: 0.3509 - lr: 0.0047\n",
            "Epoch 32/50\n",
            "19/19 [==============================] - 0s 4ms/step - loss: 0.3104 - val_loss: 0.3471 - lr: 0.0045\n",
            "Epoch 33/50\n",
            "19/19 [==============================] - 0s 5ms/step - loss: 0.3124 - val_loss: 0.3451 - lr: 0.0043\n",
            "Epoch 34/50\n",
            "19/19 [==============================] - 0s 6ms/step - loss: 0.3171 - val_loss: 0.3453 - lr: 0.0041\n",
            "Epoch 35/50\n",
            "19/19 [==============================] - 0s 4ms/step - loss: 0.3044 - val_loss: 0.3508 - lr: 0.0039\n",
            "Epoch 36/50\n",
            "19/19 [==============================] - 0s 4ms/step - loss: 0.3065 - val_loss: 0.3537 - lr: 0.0037\n",
            "Epoch 37/50\n",
            "19/19 [==============================] - 0s 6ms/step - loss: 0.3075 - val_loss: 0.3458 - lr: 0.0035\n",
            "Epoch 38/50\n",
            "19/19 [==============================] - 0s 6ms/step - loss: 0.3118 - val_loss: 0.3462 - lr: 0.0033\n",
            "Epoch 39/50\n",
            "19/19 [==============================] - 0s 4ms/step - loss: 0.3054 - val_loss: 0.3476 - lr: 0.0032\n",
            "Epoch 40/50\n",
            "19/19 [==============================] - 0s 4ms/step - loss: 0.3096 - val_loss: 0.3497 - lr: 0.0030\n",
            "Epoch 41/50\n",
            "19/19 [==============================] - 0s 5ms/step - loss: 0.3090 - val_loss: 0.3465 - lr: 0.0028\n",
            "Epoch 42/50\n",
            "19/19 [==============================] - 0s 4ms/step - loss: 0.3095 - val_loss: 0.3485 - lr: 0.0027\n",
            "Epoch 43/50\n",
            "19/19 [==============================] - 0s 5ms/step - loss: 0.3100 - val_loss: 0.3469 - lr: 0.0026\n",
            "Epoch 44/50\n",
            "19/19 [==============================] - 0s 4ms/step - loss: 0.3081 - val_loss: 0.3471 - lr: 0.0024\n",
            "Epoch 45/50\n",
            "19/19 [==============================] - 0s 4ms/step - loss: 0.3087 - val_loss: 0.3489 - lr: 0.0023\n",
            "Epoch 46/50\n",
            "19/19 [==============================] - 0s 4ms/step - loss: 0.3080 - val_loss: 0.3504 - lr: 0.0022\n",
            "Epoch 47/50\n",
            "19/19 [==============================] - 0s 5ms/step - loss: 0.3099 - val_loss: 0.3515 - lr: 0.0021\n",
            "Epoch 48/50\n",
            "19/19 [==============================] - 0s 4ms/step - loss: 0.3084 - val_loss: 0.3516 - lr: 0.0020\n",
            "Epoch 49/50\n",
            "19/19 [==============================] - 0s 4ms/step - loss: 0.3146 - val_loss: 0.3487 - lr: 0.0019\n",
            "Epoch 50/50\n",
            "19/19 [==============================] - 0s 5ms/step - loss: 0.2965 - val_loss: 0.3509 - lr: 0.0018\n"
          ]
        }
      ]
    },
    {
      "cell_type": "code",
      "source": [
        "model.summary()"
      ],
      "metadata": {
        "colab": {
          "base_uri": "https://localhost:8080/"
        },
        "id": "4EDTIijY1gcU",
        "outputId": "33d717e3-da1c-4fd2-db7c-d437a2ecea6e"
      },
      "execution_count": 13,
      "outputs": [
        {
          "output_type": "stream",
          "name": "stdout",
          "text": [
            "Model: \"sequential\"\n",
            "_________________________________________________________________\n",
            " Layer (type)                Output Shape              Param #   \n",
            "=================================================================\n",
            " dense (Dense)               (None, 16)                144       \n",
            "                                                                 \n",
            " batch_normalization (BatchN  (None, 16)               64        \n",
            " ormalization)                                                   \n",
            "                                                                 \n",
            " activation (Activation)     (None, 16)                0         \n",
            "                                                                 \n",
            " dropout (Dropout)           (None, 16)                0         \n",
            "                                                                 \n",
            " dense_1 (Dense)             (None, 16)                272       \n",
            "                                                                 \n",
            " batch_normalization_1 (Batc  (None, 16)               64        \n",
            " hNormalization)                                                 \n",
            "                                                                 \n",
            " activation_1 (Activation)   (None, 16)                0         \n",
            "                                                                 \n",
            " dropout_1 (Dropout)         (None, 16)                0         \n",
            "                                                                 \n",
            " dense_2 (Dense)             (None, 16)                272       \n",
            "                                                                 \n",
            " batch_normalization_2 (Batc  (None, 16)               64        \n",
            " hNormalization)                                                 \n",
            "                                                                 \n",
            " activation_2 (Activation)   (None, 16)                0         \n",
            "                                                                 \n",
            " dense_3 (Dense)             (None, 2)                 34        \n",
            "                                                                 \n",
            "=================================================================\n",
            "Total params: 914\n",
            "Trainable params: 818\n",
            "Non-trainable params: 96\n",
            "_________________________________________________________________\n"
          ]
        }
      ]
    },
    {
      "cell_type": "code",
      "source": [
        "from sklearn.metrics import roc_auc_score"
      ],
      "metadata": {
        "id": "tc1xksL46Nf1"
      },
      "execution_count": 14,
      "outputs": []
    },
    {
      "cell_type": "code",
      "source": [
        "#визуализируем процесс обучения\n",
        "#predict test_set\n",
        "\n",
        "#Валидируем наш прогноз\n",
        "score = roc_auc_score(y_test[:, 1], model.predict(X_test)[:, 1])\n",
        "\n",
        "print('ROC AUC: ', score)\n",
        "\n",
        "#визуализация процесса обучения\n",
        "pyplot.title('Обучение')\n",
        "pyplot.xlabel('epochs')\n",
        "pyplot.ylabel('Cross_entropy')\n",
        "pyplot.plot(history.history['loss'], label = 'train')\n",
        "pyplot.plot(history.history['val_loss'], label = 'val')\n",
        "pyplot.legend()\n",
        "pyplot.show()"
      ],
      "metadata": {
        "colab": {
          "base_uri": "https://localhost:8080/",
          "height": 312
        },
        "id": "w9gBbgCcMT38",
        "outputId": "39b2a225-9a07-4c67-85e8-822a65d3d5ce"
      },
      "execution_count": 16,
      "outputs": [
        {
          "output_type": "stream",
          "name": "stdout",
          "text": [
            "ROC AUC:  0.831527871812232\n"
          ]
        },
        {
          "output_type": "display_data",
          "data": {
            "text/plain": [
              "<Figure size 432x288 with 1 Axes>"
            ],
            "image/png": "[encoded data removed]"
          },
          "metadata": {
            "needs_background": "light"
          }
        }
      ]
    },
    {
      "cell_type": "markdown",
      "source": [
        "# Балансируем датасет методом SMOTE"
      ],
      "metadata": {
        "id": "vvCTZjstwuVM"
      }
    },
    {
      "cell_type": "code",
      "source": [
        "pip install imblearn"
      ],
      "metadata": {
        "colab": {
          "base_uri": "https://localhost:8080/"
        },
        "id": "dPaw6Yj5_xEN",
        "outputId": "ad29dd58-deb2-4ba0-f494-c498981748ea"
      },
      "execution_count": 17,
      "outputs": [
        {
          "output_type": "stream",
          "name": "stdout",
          "text": [
            "Looking in indexes: https://pypi.org/simple, https://us-python.pkg.dev/colab-wheels/public/simple/\n",
            "Requirement already satisfied: imblearn in /usr/local/lib/python3.7/dist-packages (0.0)\n",
            "Requirement already satisfied: imbalanced-learn in /usr/local/lib/python3.7/dist-packages (from imblearn) (0.8.1)\n",
            "Requirement already satisfied: scipy>=0.19.1 in /usr/local/lib/python3.7/dist-packages (from imbalanced-learn->imblearn) (1.4.1)\n",
            "Requirement already satisfied: joblib>=0.11 in /usr/local/lib/python3.7/dist-packages (from imbalanced-learn->imblearn) (1.1.0)\n",
            "Requirement already satisfied: numpy>=1.13.3 in /usr/local/lib/python3.7/dist-packages (from imbalanced-learn->imblearn) (1.21.6)\n",
            "Requirement already satisfied: scikit-learn>=0.24 in /usr/local/lib/python3.7/dist-packages (from imbalanced-learn->imblearn) (1.0.2)\n",
            "Requirement already satisfied: threadpoolctl>=2.0.0 in /usr/local/lib/python3.7/dist-packages (from scikit-learn>=0.24->imbalanced-learn->imblearn) (3.1.0)\n"
          ]
        }
      ]
    },
    {
      "cell_type": "code",
      "source": [
        "from imblearn.over_sampling import SMOTE\n",
        "smote = SMOTE()"
      ],
      "metadata": {
        "id": "dtEfF6Bu_1DI"
      },
      "execution_count": 18,
      "outputs": []
    },
    {
      "cell_type": "code",
      "source": [
        "X_train_smote, y_train_smote = smote.fit_resample(X_train.astype('float'),y_train[:, 1])\n",
        "y_train_smote = np.stack((y_train_smote == 0, y_train_smote), axis=1)"
      ],
      "metadata": {
        "id": "cBI1dog8ADCX"
      },
      "execution_count": 19,
      "outputs": []
    },
    {
      "cell_type": "code",
      "source": [
        "print(X_train_smote.shape)\n",
        "print(X_test.shape)\n",
        "print(y_train_smote.shape)\n",
        "print(y_test.shape)"
      ],
      "metadata": {
        "colab": {
          "base_uri": "https://localhost:8080/"
        },
        "id": "5zouOiGSxuZb",
        "outputId": "1b35b75d-7724-4bd1-e006-6d94ddd3defc"
      },
      "execution_count": 20,
      "outputs": [
        {
          "output_type": "stream",
          "name": "stdout",
          "text": [
            "(994, 8)\n",
            "(253, 8)\n",
            "(994, 2)\n",
            "(253, 2)\n"
          ]
        }
      ]
    },
    {
      "cell_type": "code",
      "source": [
        "from collections import Counter\n",
        "print(\"Число объектов в обучающей выборке по исходу PVT до применения SMOTE :\" , Counter(y_train[:, 1]))\n",
        "print(\"Число объектов в обучающей выборке по исходу PVT до применения SMOTE :\" , Counter(y_train_smote[:, 1]))"
      ],
      "metadata": {
        "colab": {
          "base_uri": "https://localhost:8080/"
        },
        "id": "E1YOHZDx_4s5",
        "outputId": "f9b2c294-074c-4242-f6b4-70391ae16be6"
      },
      "execution_count": 21,
      "outputs": [
        {
          "output_type": "stream",
          "name": "stdout",
          "text": [
            "Число объектов в обучающей выборке по исходу PVT до применения SMOTE : Counter({0: 497, 1: 91})\n",
            "Число объектов в обучающей выборке по исходу PVT до применения SMOTE : Counter({0: 497, 1: 497})\n"
          ]
        }
      ]
    },
    {
      "cell_type": "code",
      "source": [
        "n_features = X_train_smote.shape[1]"
      ],
      "metadata": {
        "id": "Yg7xB2wn_7dH"
      },
      "execution_count": 22,
      "outputs": []
    },
    {
      "cell_type": "code",
      "source": [
        "model_smote = Sequential()\n",
        "model_smote.add(Dense(2 * n_features, input_shape = (n_features,) ))\n",
        "model_smote.add(BatchNormalization())\n",
        "model_smote.add(Activation('tanh'))\n",
        "\n",
        "model_smote.add(Dropout(0.5))\n",
        "model_smote.add(Dense(2 * n_features))\n",
        "model_smote.add(BatchNormalization())\n",
        "model_smote.add(Activation('tanh'))\n",
        "\n",
        "model_smote.add(Dropout(0.5))\n",
        "model_smote.add(Dense(2 * n_features))\n",
        "model_smote.add(BatchNormalization())\n",
        "model_smote.add(Activation('tanh'))\n",
        "\n",
        "model_smote.add(Dropout(0.5))\n",
        "model_smote.add(Dense(2 * n_features))\n",
        "model_smote.add(BatchNormalization())\n",
        "model_smote.add(Activation('tanh'))\n",
        "\n",
        "model_smote.add(Dropout(0.5))\n",
        "\n",
        "model_smote.add(Dense(2, activation = 'softmax'))\n",
        "\n",
        "optimizer = optimizers.Adam(learning_rate=0.001)\n",
        "model_smote.compile(optimizer = optimizer, loss = 'binary_crossentropy')\n",
        "history = model_smote.fit(X_train_smote, y_train_smote,\n",
        "                    epochs = 150,\n",
        "                    batch_size = 32,\n",
        "                    verbose = 1,\n",
        "                    validation_data = (X_test, y_test))"
      ],
      "metadata": {
        "colab": {
          "base_uri": "https://localhost:8080/"
        },
        "id": "0vxVRqj2Aabb",
        "outputId": "942d94a6-2008-43f9-99bf-cf4e05d24944"
      },
      "execution_count": 23,
      "outputs": [
        {
          "output_type": "stream",
          "name": "stdout",
          "text": [
            "Epoch 1/150\n",
            "32/32 [==============================] - 5s 31ms/step - loss: 0.7940 - val_loss: 0.7528\n",
            "Epoch 2/150\n",
            "32/32 [==============================] - 0s 9ms/step - loss: 0.7572 - val_loss: 0.7321\n",
            "Epoch 3/150\n",
            "32/32 [==============================] - 0s 6ms/step - loss: 0.7366 - val_loss: 0.7129\n",
            "Epoch 4/150\n",
            "32/32 [==============================] - 0s 9ms/step - loss: 0.7225 - val_loss: 0.7035\n",
            "Epoch 5/150\n",
            "32/32 [==============================] - 0s 8ms/step - loss: 0.7018 - val_loss: 0.6840\n",
            "Epoch 6/150\n",
            "32/32 [==============================] - 0s 7ms/step - loss: 0.6916 - val_loss: 0.6699\n",
            "Epoch 7/150\n",
            "32/32 [==============================] - 0s 6ms/step - loss: 0.6735 - val_loss: 0.6557\n",
            "Epoch 8/150\n",
            "32/32 [==============================] - 0s 7ms/step - loss: 0.6679 - val_loss: 0.6423\n",
            "Epoch 9/150\n",
            "32/32 [==============================] - 0s 6ms/step - loss: 0.6601 - val_loss: 0.6476\n",
            "Epoch 10/150\n",
            "32/32 [==============================] - 0s 6ms/step - loss: 0.6539 - val_loss: 0.6458\n",
            "Epoch 11/150\n",
            "32/32 [==============================] - 0s 9ms/step - loss: 0.6328 - val_loss: 0.6340\n",
            "Epoch 12/150\n",
            "32/32 [==============================] - 0s 7ms/step - loss: 0.6372 - val_loss: 0.6298\n",
            "Epoch 13/150\n",
            "32/32 [==============================] - 0s 8ms/step - loss: 0.6214 - val_loss: 0.6224\n",
            "Epoch 14/150\n",
            "32/32 [==============================] - 0s 7ms/step - loss: 0.6267 - val_loss: 0.6165\n",
            "Epoch 15/150\n",
            "32/32 [==============================] - 0s 7ms/step - loss: 0.6087 - val_loss: 0.6171\n",
            "Epoch 16/150\n",
            "32/32 [==============================] - 0s 6ms/step - loss: 0.6081 - val_loss: 0.6167\n",
            "Epoch 17/150\n",
            "32/32 [==============================] - 0s 7ms/step - loss: 0.6176 - val_loss: 0.6073\n",
            "Epoch 18/150\n",
            "32/32 [==============================] - 0s 6ms/step - loss: 0.6215 - val_loss: 0.6109\n",
            "Epoch 19/150\n",
            "32/32 [==============================] - 0s 7ms/step - loss: 0.5846 - val_loss: 0.6052\n",
            "Epoch 20/150\n",
            "32/32 [==============================] - 0s 6ms/step - loss: 0.5937 - val_loss: 0.6051\n",
            "Epoch 21/150\n",
            "32/32 [==============================] - 0s 9ms/step - loss: 0.5840 - val_loss: 0.6012\n",
            "Epoch 22/150\n",
            "32/32 [==============================] - 0s 7ms/step - loss: 0.6070 - val_loss: 0.5915\n",
            "Epoch 23/150\n",
            "32/32 [==============================] - 0s 12ms/step - loss: 0.5960 - val_loss: 0.5910\n",
            "Epoch 24/150\n",
            "32/32 [==============================] - 0s 10ms/step - loss: 0.5799 - val_loss: 0.5824\n",
            "Epoch 25/150\n",
            "32/32 [==============================] - 0s 9ms/step - loss: 0.5901 - val_loss: 0.5791\n",
            "Epoch 26/150\n",
            "32/32 [==============================] - 0s 7ms/step - loss: 0.5792 - val_loss: 0.5760\n",
            "Epoch 27/150\n",
            "32/32 [==============================] - 0s 13ms/step - loss: 0.5920 - val_loss: 0.5763\n",
            "Epoch 28/150\n",
            "32/32 [==============================] - 0s 13ms/step - loss: 0.5630 - val_loss: 0.5781\n",
            "Epoch 29/150\n",
            "32/32 [==============================] - 0s 8ms/step - loss: 0.5731 - val_loss: 0.5746\n",
            "Epoch 30/150\n",
            "32/32 [==============================] - 0s 6ms/step - loss: 0.5765 - val_loss: 0.5667\n",
            "Epoch 31/150\n",
            "32/32 [==============================] - 0s 9ms/step - loss: 0.5747 - val_loss: 0.5617\n",
            "Epoch 32/150\n",
            "32/32 [==============================] - 0s 6ms/step - loss: 0.5687 - val_loss: 0.5583\n",
            "Epoch 33/150\n",
            "32/32 [==============================] - 0s 10ms/step - loss: 0.5652 - val_loss: 0.5541\n",
            "Epoch 34/150\n",
            "32/32 [==============================] - 0s 7ms/step - loss: 0.5574 - val_loss: 0.5552\n",
            "Epoch 35/150\n",
            "32/32 [==============================] - 0s 7ms/step - loss: 0.5638 - val_loss: 0.5492\n",
            "Epoch 36/150\n",
            "32/32 [==============================] - 0s 7ms/step - loss: 0.5564 - val_loss: 0.5475\n",
            "Epoch 37/150\n",
            "32/32 [==============================] - 0s 12ms/step - loss: 0.5603 - val_loss: 0.5524\n",
            "Epoch 38/150\n",
            "32/32 [==============================] - 0s 8ms/step - loss: 0.5484 - val_loss: 0.5486\n",
            "Epoch 39/150\n",
            "32/32 [==============================] - 0s 10ms/step - loss: 0.5352 - val_loss: 0.5439\n",
            "Epoch 40/150\n",
            "32/32 [==============================] - 0s 8ms/step - loss: 0.5437 - val_loss: 0.5420\n",
            "Epoch 41/150\n",
            "32/32 [==============================] - 0s 5ms/step - loss: 0.5264 - val_loss: 0.5316\n",
            "Epoch 42/150\n",
            "32/32 [==============================] - 0s 4ms/step - loss: 0.5406 - val_loss: 0.5282\n",
            "Epoch 43/150\n",
            "32/32 [==============================] - 0s 3ms/step - loss: 0.5184 - val_loss: 0.5245\n",
            "Epoch 44/150\n",
            "32/32 [==============================] - 0s 4ms/step - loss: 0.5306 - val_loss: 0.5272\n",
            "Epoch 45/150\n",
            "32/32 [==============================] - 0s 3ms/step - loss: 0.5239 - val_loss: 0.5278\n",
            "Epoch 46/150\n",
            "32/32 [==============================] - 0s 4ms/step - loss: 0.5035 - val_loss: 0.5347\n",
            "Epoch 47/150\n",
            "32/32 [==============================] - 0s 3ms/step - loss: 0.5303 - val_loss: 0.5301\n",
            "Epoch 48/150\n",
            "32/32 [==============================] - 0s 4ms/step - loss: 0.4929 - val_loss: 0.5204\n",
            "Epoch 49/150\n",
            "32/32 [==============================] - 0s 4ms/step - loss: 0.5026 - val_loss: 0.5233\n",
            "Epoch 50/150\n",
            "32/32 [==============================] - 0s 4ms/step - loss: 0.5177 - val_loss: 0.5147\n",
            "Epoch 51/150\n",
            "32/32 [==============================] - 0s 4ms/step - loss: 0.4945 - val_loss: 0.5029\n",
            "Epoch 52/150\n",
            "32/32 [==============================] - 0s 4ms/step - loss: 0.5051 - val_loss: 0.4996\n",
            "Epoch 53/150\n",
            "32/32 [==============================] - 0s 4ms/step - loss: 0.4954 - val_loss: 0.4837\n",
            "Epoch 54/150\n",
            "32/32 [==============================] - 0s 4ms/step - loss: 0.5161 - val_loss: 0.4870\n",
            "Epoch 55/150\n",
            "32/32 [==============================] - 0s 4ms/step - loss: 0.5148 - val_loss: 0.4883\n",
            "Epoch 56/150\n",
            "32/32 [==============================] - 0s 4ms/step - loss: 0.5006 - val_loss: 0.4910\n",
            "Epoch 57/150\n",
            "32/32 [==============================] - 0s 4ms/step - loss: 0.5035 - val_loss: 0.4817\n",
            "Epoch 58/150\n",
            "32/32 [==============================] - 0s 4ms/step - loss: 0.4993 - val_loss: 0.4798\n",
            "Epoch 59/150\n",
            "32/32 [==============================] - 0s 4ms/step - loss: 0.4910 - val_loss: 0.4820\n",
            "Epoch 60/150\n",
            "32/32 [==============================] - 0s 4ms/step - loss: 0.4907 - val_loss: 0.4828\n",
            "Epoch 61/150\n",
            "32/32 [==============================] - 0s 4ms/step - loss: 0.4935 - val_loss: 0.4881\n",
            "Epoch 62/150\n",
            "32/32 [==============================] - 0s 4ms/step - loss: 0.4826 - val_loss: 0.4802\n",
            "Epoch 63/150\n",
            "32/32 [==============================] - 0s 4ms/step - loss: 0.4783 - val_loss: 0.4816\n",
            "Epoch 64/150\n",
            "32/32 [==============================] - 0s 4ms/step - loss: 0.4831 - val_loss: 0.4835\n",
            "Epoch 65/150\n",
            "32/32 [==============================] - 0s 4ms/step - loss: 0.4757 - val_loss: 0.4817\n",
            "Epoch 66/150\n",
            "32/32 [==============================] - 0s 4ms/step - loss: 0.4983 - val_loss: 0.4866\n",
            "Epoch 67/150\n",
            "32/32 [==============================] - 0s 4ms/step - loss: 0.4714 - val_loss: 0.4884\n",
            "Epoch 68/150\n",
            "32/32 [==============================] - 0s 4ms/step - loss: 0.4878 - val_loss: 0.4906\n",
            "Epoch 69/150\n",
            "32/32 [==============================] - 0s 4ms/step - loss: 0.4826 - val_loss: 0.4859\n",
            "Epoch 70/150\n",
            "32/32 [==============================] - 0s 4ms/step - loss: 0.4779 - val_loss: 0.4820\n",
            "Epoch 71/150\n",
            "32/32 [==============================] - 0s 4ms/step - loss: 0.4658 - val_loss: 0.4839\n",
            "Epoch 72/150\n",
            "32/32 [==============================] - 0s 4ms/step - loss: 0.4774 - val_loss: 0.4756\n",
            "Epoch 73/150\n",
            "32/32 [==============================] - 0s 4ms/step - loss: 0.4753 - val_loss: 0.4783\n",
            "Epoch 74/150\n",
            "32/32 [==============================] - 0s 4ms/step - loss: 0.4875 - val_loss: 0.4818\n",
            "Epoch 75/150\n",
            "32/32 [==============================] - 0s 4ms/step - loss: 0.4665 - val_loss: 0.4660\n",
            "Epoch 76/150\n",
            "32/32 [==============================] - 0s 4ms/step - loss: 0.4716 - val_loss: 0.4690\n",
            "Epoch 77/150\n",
            "32/32 [==============================] - 0s 4ms/step - loss: 0.4802 - val_loss: 0.4662\n",
            "Epoch 78/150\n",
            "32/32 [==============================] - 0s 4ms/step - loss: 0.4660 - val_loss: 0.4698\n",
            "Epoch 79/150\n",
            "32/32 [==============================] - 0s 5ms/step - loss: 0.4928 - val_loss: 0.4723\n",
            "Epoch 80/150\n",
            "32/32 [==============================] - 0s 5ms/step - loss: 0.4528 - val_loss: 0.4779\n",
            "Epoch 81/150\n",
            "32/32 [==============================] - 0s 4ms/step - loss: 0.4824 - val_loss: 0.4803\n",
            "Epoch 82/150\n",
            "32/32 [==============================] - 0s 5ms/step - loss: 0.4688 - val_loss: 0.4784\n",
            "Epoch 83/150\n",
            "32/32 [==============================] - 0s 4ms/step - loss: 0.4785 - val_loss: 0.4827\n",
            "Epoch 84/150\n",
            "32/32 [==============================] - 0s 4ms/step - loss: 0.4548 - val_loss: 0.4759\n",
            "Epoch 85/150\n",
            "32/32 [==============================] - 0s 4ms/step - loss: 0.4603 - val_loss: 0.4762\n",
            "Epoch 86/150\n",
            "32/32 [==============================] - 0s 4ms/step - loss: 0.4799 - val_loss: 0.4806\n",
            "Epoch 87/150\n",
            "32/32 [==============================] - 0s 6ms/step - loss: 0.4636 - val_loss: 0.4836\n",
            "Epoch 88/150\n",
            "32/32 [==============================] - 0s 4ms/step - loss: 0.4686 - val_loss: 0.4840\n",
            "Epoch 89/150\n",
            "32/32 [==============================] - 0s 4ms/step - loss: 0.4912 - val_loss: 0.4868\n",
            "Epoch 90/150\n",
            "32/32 [==============================] - 0s 4ms/step - loss: 0.4847 - val_loss: 0.4934\n",
            "Epoch 91/150\n",
            "32/32 [==============================] - 0s 4ms/step - loss: 0.4584 - val_loss: 0.4943\n",
            "Epoch 92/150\n",
            "32/32 [==============================] - 0s 4ms/step - loss: 0.4609 - val_loss: 0.4863\n",
            "Epoch 93/150\n",
            "32/32 [==============================] - 0s 4ms/step - loss: 0.4701 - val_loss: 0.4925\n",
            "Epoch 94/150\n",
            "32/32 [==============================] - 0s 4ms/step - loss: 0.4782 - val_loss: 0.4863\n",
            "Epoch 95/150\n",
            "32/32 [==============================] - 0s 4ms/step - loss: 0.4616 - val_loss: 0.4774\n",
            "Epoch 96/150\n",
            "32/32 [==============================] - 0s 5ms/step - loss: 0.4591 - val_loss: 0.4750\n",
            "Epoch 97/150\n",
            "32/32 [==============================] - 0s 4ms/step - loss: 0.4700 - val_loss: 0.4728\n",
            "Epoch 98/150\n",
            "32/32 [==============================] - 0s 4ms/step - loss: 0.4698 - val_loss: 0.4699\n",
            "Epoch 99/150\n",
            "32/32 [==============================] - 0s 4ms/step - loss: 0.4611 - val_loss: 0.4695\n",
            "Epoch 100/150\n",
            "32/32 [==============================] - 0s 4ms/step - loss: 0.4812 - val_loss: 0.4752\n",
            "Epoch 101/150\n",
            "32/32 [==============================] - 0s 4ms/step - loss: 0.4623 - val_loss: 0.4752\n",
            "Epoch 102/150\n",
            "32/32 [==============================] - 0s 4ms/step - loss: 0.4648 - val_loss: 0.4727\n",
            "Epoch 103/150\n",
            "32/32 [==============================] - 0s 4ms/step - loss: 0.4818 - val_loss: 0.4702\n",
            "Epoch 104/150\n",
            "32/32 [==============================] - 0s 4ms/step - loss: 0.4731 - val_loss: 0.4761\n",
            "Epoch 105/150\n",
            "32/32 [==============================] - 0s 4ms/step - loss: 0.4854 - val_loss: 0.4701\n",
            "Epoch 106/150\n",
            "32/32 [==============================] - 0s 4ms/step - loss: 0.4747 - val_loss: 0.4716\n",
            "Epoch 107/150\n",
            "32/32 [==============================] - 0s 4ms/step - loss: 0.4922 - val_loss: 0.4712\n",
            "Epoch 108/150\n",
            "32/32 [==============================] - 0s 5ms/step - loss: 0.4617 - val_loss: 0.4689\n",
            "Epoch 109/150\n",
            "32/32 [==============================] - 0s 5ms/step - loss: 0.4713 - val_loss: 0.4673\n",
            "Epoch 110/150\n",
            "32/32 [==============================] - 0s 4ms/step - loss: 0.4657 - val_loss: 0.4716\n",
            "Epoch 111/150\n",
            "32/32 [==============================] - 0s 5ms/step - loss: 0.4586 - val_loss: 0.4710\n",
            "Epoch 112/150\n",
            "32/32 [==============================] - 0s 4ms/step - loss: 0.4523 - val_loss: 0.4716\n",
            "Epoch 113/150\n",
            "32/32 [==============================] - 0s 4ms/step - loss: 0.4613 - val_loss: 0.4757\n",
            "Epoch 114/150\n",
            "32/32 [==============================] - 0s 4ms/step - loss: 0.4537 - val_loss: 0.4739\n",
            "Epoch 115/150\n",
            "32/32 [==============================] - 0s 4ms/step - loss: 0.4765 - val_loss: 0.4708\n",
            "Epoch 116/150\n",
            "32/32 [==============================] - 0s 4ms/step - loss: 0.4484 - val_loss: 0.4772\n",
            "Epoch 117/150\n",
            "32/32 [==============================] - 0s 4ms/step - loss: 0.4634 - val_loss: 0.4759\n",
            "Epoch 118/150\n",
            "32/32 [==============================] - 0s 3ms/step - loss: 0.4628 - val_loss: 0.4741\n",
            "Epoch 119/150\n",
            "32/32 [==============================] - 0s 4ms/step - loss: 0.4803 - val_loss: 0.4758\n",
            "Epoch 120/150\n",
            "32/32 [==============================] - 0s 4ms/step - loss: 0.4525 - val_loss: 0.4755\n",
            "Epoch 121/150\n",
            "32/32 [==============================] - 0s 3ms/step - loss: 0.4540 - val_loss: 0.4719\n",
            "Epoch 122/150\n",
            "32/32 [==============================] - 0s 3ms/step - loss: 0.4681 - val_loss: 0.4667\n",
            "Epoch 123/150\n",
            "32/32 [==============================] - 0s 4ms/step - loss: 0.4591 - val_loss: 0.4783\n",
            "Epoch 124/150\n",
            "32/32 [==============================] - 0s 4ms/step - loss: 0.4645 - val_loss: 0.4770\n",
            "Epoch 125/150\n",
            "32/32 [==============================] - 0s 4ms/step - loss: 0.4565 - val_loss: 0.4742\n",
            "Epoch 126/150\n",
            "32/32 [==============================] - 0s 4ms/step - loss: 0.4556 - val_loss: 0.4715\n",
            "Epoch 127/150\n",
            "32/32 [==============================] - 0s 4ms/step - loss: 0.4441 - val_loss: 0.4755\n",
            "Epoch 128/150\n",
            "32/32 [==============================] - 0s 4ms/step - loss: 0.4574 - val_loss: 0.4710\n",
            "Epoch 129/150\n",
            "32/32 [==============================] - 0s 4ms/step - loss: 0.4626 - val_loss: 0.4723\n",
            "Epoch 130/150\n",
            "32/32 [==============================] - 0s 4ms/step - loss: 0.4406 - val_loss: 0.4729\n",
            "Epoch 131/150\n",
            "32/32 [==============================] - 0s 4ms/step - loss: 0.4597 - val_loss: 0.4725\n",
            "Epoch 132/150\n",
            "32/32 [==============================] - 0s 4ms/step - loss: 0.4609 - val_loss: 0.4821\n",
            "Epoch 133/150\n",
            "32/32 [==============================] - 0s 4ms/step - loss: 0.4672 - val_loss: 0.4765\n",
            "Epoch 134/150\n",
            "32/32 [==============================] - 0s 4ms/step - loss: 0.4681 - val_loss: 0.4737\n",
            "Epoch 135/150\n",
            "32/32 [==============================] - 0s 4ms/step - loss: 0.4511 - val_loss: 0.4773\n",
            "Epoch 136/150\n",
            "32/32 [==============================] - 0s 4ms/step - loss: 0.4720 - val_loss: 0.4700\n",
            "Epoch 137/150\n",
            "32/32 [==============================] - 0s 3ms/step - loss: 0.4539 - val_loss: 0.4747\n",
            "Epoch 138/150\n",
            "32/32 [==============================] - 0s 4ms/step - loss: 0.4567 - val_loss: 0.4745\n",
            "Epoch 139/150\n",
            "32/32 [==============================] - 0s 4ms/step - loss: 0.4709 - val_loss: 0.4694\n",
            "Epoch 140/150\n",
            "32/32 [==============================] - 0s 4ms/step - loss: 0.4598 - val_loss: 0.4742\n",
            "Epoch 141/150\n",
            "32/32 [==============================] - 0s 4ms/step - loss: 0.4677 - val_loss: 0.4767\n",
            "Epoch 142/150\n",
            "32/32 [==============================] - 0s 4ms/step - loss: 0.4531 - val_loss: 0.4755\n",
            "Epoch 143/150\n",
            "32/32 [==============================] - 0s 4ms/step - loss: 0.4657 - val_loss: 0.4720\n",
            "Epoch 144/150\n",
            "32/32 [==============================] - 0s 4ms/step - loss: 0.4398 - val_loss: 0.4760\n",
            "Epoch 145/150\n",
            "32/32 [==============================] - 0s 4ms/step - loss: 0.4648 - val_loss: 0.4722\n",
            "Epoch 146/150\n",
            "32/32 [==============================] - 0s 4ms/step - loss: 0.4449 - val_loss: 0.4755\n",
            "Epoch 147/150\n",
            "32/32 [==============================] - 0s 4ms/step - loss: 0.4567 - val_loss: 0.4677\n",
            "Epoch 148/150\n",
            "32/32 [==============================] - 0s 4ms/step - loss: 0.4573 - val_loss: 0.4712\n",
            "Epoch 149/150\n",
            "32/32 [==============================] - 0s 5ms/step - loss: 0.4967 - val_loss: 0.4661\n",
            "Epoch 150/150\n",
            "32/32 [==============================] - 0s 4ms/step - loss: 0.4706 - val_loss: 0.4713\n"
          ]
        }
      ]
    },
    {
      "cell_type": "code",
      "source": [
        "from sklearn.metrics import roc_curve\n",
        "fpr, tpr, thresholds = roc_curve(y_test[:, 1], model.predict(X_test)[:, 1])\n",
        "fpr_smote, tpr_smote, thresholds = roc_curve(y_test[:, 1], model_smote.predict(X_test)[:, 1])\n",
        "pyplot.plot(fpr, tpr)\n",
        "pyplot.plot(fpr_smote, tpr_smote, label=\"smote\")"
      ],
      "metadata": {
        "colab": {
          "base_uri": "https://localhost:8080/",
          "height": 282
        },
        "id": "w7gDzx47Hjnq",
        "outputId": "d439a527-1c28-486a-fc13-1b3489088e61"
      },
      "execution_count": 24,
      "outputs": [
        {
          "output_type": "execute_result",
          "data": {
            "text/plain": [
              "[<matplotlib.lines.Line2D at 0x7f2c66997f90>]"
            ]
          },
          "metadata": {},
          "execution_count": 24
        },
        {
          "output_type": "display_data",
          "data": {
            "text/plain": [
              "<Figure size 432x288 with 1 Axes>"
            ],
            "image/png": "[encoded data removed]"
          },
          "metadata": {
            "needs_background": "light"
          }
        }
      ]
    },
    {
      "cell_type": "code",
      "source": [
        "print('ROC AUC: ', score)"
      ],
      "metadata": {
        "colab": {
          "base_uri": "https://localhost:8080/"
        },
        "id": "smmguqKtLGPJ",
        "outputId": "2b9b9b54-e045-4f29-b011-0e1f5fa4bfc7"
      },
      "execution_count": 25,
      "outputs": [
        {
          "output_type": "stream",
          "name": "stdout",
          "text": [
            "ROC AUC:  0.831527871812232\n"
          ]
        }
      ]
    },
    {
      "cell_type": "code",
      "source": [
        "model.count_params()"
      ],
      "metadata": {
        "colab": {
          "base_uri": "https://localhost:8080/"
        },
        "id": "lNs8XgHQBTGc",
        "outputId": "cc21e1f2-6a6c-4925-bb14-7a964395b139"
      },
      "execution_count": null,
      "outputs": [
        {
          "output_type": "execute_result",
          "data": {
            "text/plain": [
              "914"
            ]
          },
          "metadata": {},
          "execution_count": 40
        }
      ]
    },
    {
      "cell_type": "code",
      "source": [
        "#визуализируем процесс обучения\n",
        "#predict test_set\n",
        "\n",
        "#Валидируем наш прогноз\n",
        "score = roc_auc_score(y_test[:, 1], model.predict(X_test)[:, 1])\n",
        "\n",
        "print('ROC AUC: ', score)\n",
        "\n",
        "#визуализация процесса обучения\n",
        "pyplot.title('Обучение')\n",
        "pyplot.xlabel('epochs')\n",
        "pyplot.ylabel('Cross_entropy')\n",
        "pyplot.plot(history.history['loss'], label = 'train')\n",
        "pyplot.plot(history.history['val_loss'], label = 'val')\n",
        "pyplot.legend()\n",
        "pyplot.show()\n"
      ],
      "metadata": {
        "colab": {
          "base_uri": "https://localhost:8080/",
          "height": 312
        },
        "id": "0G60Ms5xAg2k",
        "outputId": "1581585f-9697-4d43-805d-1c2f9323e5ce"
      },
      "execution_count": 26,
      "outputs": [
        {
          "output_type": "stream",
          "name": "stdout",
          "text": [
            "ROC AUC:  0.831527871812232\n"
          ]
        },
        {
          "output_type": "display_data",
          "data": {
            "text/plain": [
              "<Figure size 432x288 with 1 Axes>"
            ],
            "image/png": "[encoded data removed]"
          },
          "metadata": {
            "needs_background": "light"
          }
        }
      ]
    },
    {
      "cell_type": "markdown",
      "source": [
        "# Визуализируем модель"
      ],
      "metadata": {
        "id": "gn3U0ubN-6cm"
      }
    },
    {
      "cell_type": "code",
      "source": [
        "from tensorflow.keras.utils import plot_model"
      ],
      "metadata": {
        "id": "odVO8DBE8htp"
      },
      "execution_count": 29,
      "outputs": []
    },
    {
      "cell_type": "code",
      "source": [
        "# plot_model(model, to_file='PVT_model.png', show_shapes = False)"
      ],
      "metadata": {
        "id": "K5_Kz1Wh-syt"
      },
      "execution_count": 44,
      "outputs": []
    },
    {
      "cell_type": "code",
      "source": [
        "plot_model(model, to_file='PVT_model.png', show_shapes = True)"
      ],
      "metadata": {
        "colab": {
          "base_uri": "https://localhost:8080/",
          "height": 1000
        },
        "id": "gJR_zJno-_fp",
        "outputId": "dafcffed-2ba2-4d14-9953-143385e3ffc1"
      },
      "execution_count": 45,
      "outputs": [
        {
          "output_type": "execute_result",
          "data": {
            "text/plain": [
              "<IPython.core.display.Image object>"
            ],
            "image/png": "[encoded data removed]"
          },
          "metadata": {},
          "execution_count": 45
        }
      ]
    }
  ]
}